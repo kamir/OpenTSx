{
 "cells": [
  {
   "cell_type": "markdown",
   "metadata": {},
   "source": [
    "# Python based CCloud Producer Demo¶\n",
    "\n",
    "How can I get some Wikipedia pageview data for timeseries analysis using OpenTSx into my Kafka Cluster?\n",
    "https://wikitech.wikimedia.org/wiki/Analytics/AQS/Pageviews\n"
   ]
  },
  {
   "cell_type": "markdown",
   "metadata": {},
   "source": [
    "# Wikipedia REST API\n",
    "- https://wikimedia.org/api/rest_v1/\n",
    "- https://github.com/MusikAnimal/pageviews\n",
    "\n",
    "Whay is pagecount not such a good idea? \n",
    "- https://ajr.org/2014/03/18/pageview-passe-new-metrics-emerge-measure-audiences/\n",
    "\n",
    "Technical Description of the Wikipedia API\n",
    "- https://readthedocs.org/projects/wikipedia-api/downloads/pdf/latest/\n"
   ]
  },
  {
   "cell_type": "code",
   "execution_count": 1,
   "metadata": {},
   "outputs": [],
   "source": [
    "import sys"
   ]
  },
  {
   "cell_type": "code",
   "execution_count": 2,
   "metadata": {},
   "outputs": [
    {
     "name": "stdout",
     "output_type": "stream",
     "text": [
      "Requirement already satisfied: wikipedia-api in /home/ec2-user/anaconda3/envs/python3/lib/python3.6/site-packages (0.5.4)\n",
      "Requirement already satisfied: requests in /home/ec2-user/anaconda3/envs/python3/lib/python3.6/site-packages (from wikipedia-api) (2.26.0)\n",
      "Requirement already satisfied: urllib3<1.27,>=1.21.1 in /home/ec2-user/anaconda3/envs/python3/lib/python3.6/site-packages (from requests->wikipedia-api) (1.26.7)\n",
      "Requirement already satisfied: idna<4,>=2.5 in /home/ec2-user/anaconda3/envs/python3/lib/python3.6/site-packages (from requests->wikipedia-api) (3.3)\n",
      "Requirement already satisfied: charset-normalizer~=2.0.0 in /home/ec2-user/anaconda3/envs/python3/lib/python3.6/site-packages (from requests->wikipedia-api) (2.0.7)\n",
      "Requirement already satisfied: certifi>=2017.4.17 in /home/ec2-user/anaconda3/envs/python3/lib/python3.6/site-packages (from requests->wikipedia-api) (2021.10.8)\n",
      "\u001b[33mWARNING: You are using pip version 21.2.4; however, version 21.3.1 is available.\n",
      "You should consider upgrading via the '/home/ec2-user/anaconda3/envs/python3/bin/python -m pip install --upgrade pip' command.\u001b[0m\n"
     ]
    }
   ],
   "source": [
    "!pip3 install wikipedia-api"
   ]
  },
  {
   "cell_type": "code",
   "execution_count": 3,
   "metadata": {},
   "outputs": [
    {
     "name": "stdout",
     "output_type": "stream",
     "text": [
      "Requirement already satisfied: confluent-kafka[avro,json,protobuf] in /home/ec2-user/anaconda3/envs/python3/lib/python3.6/site-packages (1.7.0)\n",
      "Requirement already satisfied: protobuf in /home/ec2-user/anaconda3/envs/python3/lib/python3.6/site-packages (from confluent-kafka[avro,json,protobuf]) (3.19.1)\n",
      "Requirement already satisfied: requests in /home/ec2-user/anaconda3/envs/python3/lib/python3.6/site-packages (from confluent-kafka[avro,json,protobuf]) (2.26.0)\n",
      "Requirement already satisfied: avro-python3==1.10.0 in /home/ec2-user/anaconda3/envs/python3/lib/python3.6/site-packages (from confluent-kafka[avro,json,protobuf]) (1.10.0)\n",
      "Requirement already satisfied: fastavro>=1.0 in /home/ec2-user/anaconda3/envs/python3/lib/python3.6/site-packages (from confluent-kafka[avro,json,protobuf]) (1.4.7)\n",
      "Requirement already satisfied: pyrsistent in /home/ec2-user/anaconda3/envs/python3/lib/python3.6/site-packages (from confluent-kafka[avro,json,protobuf]) (0.18.0)\n",
      "Requirement already satisfied: jsonschema in /home/ec2-user/anaconda3/envs/python3/lib/python3.6/site-packages (from confluent-kafka[avro,json,protobuf]) (3.2.0)\n",
      "Requirement already satisfied: attrs>=17.4.0 in /home/ec2-user/anaconda3/envs/python3/lib/python3.6/site-packages (from jsonschema->confluent-kafka[avro,json,protobuf]) (21.2.0)\n",
      "Requirement already satisfied: six>=1.11.0 in /home/ec2-user/anaconda3/envs/python3/lib/python3.6/site-packages (from jsonschema->confluent-kafka[avro,json,protobuf]) (1.16.0)\n",
      "Requirement already satisfied: setuptools in /home/ec2-user/anaconda3/envs/python3/lib/python3.6/site-packages (from jsonschema->confluent-kafka[avro,json,protobuf]) (58.5.3)\n",
      "Requirement already satisfied: importlib-metadata in /home/ec2-user/anaconda3/envs/python3/lib/python3.6/site-packages (from jsonschema->confluent-kafka[avro,json,protobuf]) (4.8.2)\n",
      "Requirement already satisfied: zipp>=0.5 in /home/ec2-user/anaconda3/envs/python3/lib/python3.6/site-packages (from importlib-metadata->jsonschema->confluent-kafka[avro,json,protobuf]) (3.6.0)\n",
      "Requirement already satisfied: typing-extensions>=3.6.4 in /home/ec2-user/anaconda3/envs/python3/lib/python3.6/site-packages (from importlib-metadata->jsonschema->confluent-kafka[avro,json,protobuf]) (3.10.0.2)\n",
      "Requirement already satisfied: urllib3<1.27,>=1.21.1 in /home/ec2-user/anaconda3/envs/python3/lib/python3.6/site-packages (from requests->confluent-kafka[avro,json,protobuf]) (1.26.7)\n",
      "Requirement already satisfied: idna<4,>=2.5 in /home/ec2-user/anaconda3/envs/python3/lib/python3.6/site-packages (from requests->confluent-kafka[avro,json,protobuf]) (3.3)\n",
      "Requirement already satisfied: charset-normalizer~=2.0.0 in /home/ec2-user/anaconda3/envs/python3/lib/python3.6/site-packages (from requests->confluent-kafka[avro,json,protobuf]) (2.0.7)\n",
      "Requirement already satisfied: certifi>=2017.4.17 in /home/ec2-user/anaconda3/envs/python3/lib/python3.6/site-packages (from requests->confluent-kafka[avro,json,protobuf]) (2021.10.8)\n",
      "\u001b[33mWARNING: You are using pip version 21.2.4; however, version 21.3.1 is available.\n",
      "You should consider upgrading via the '/home/ec2-user/anaconda3/envs/python3/bin/python -m pip install --upgrade pip' command.\u001b[0m\n",
      "Collecting argparse\n",
      "  Using cached argparse-1.4.0.tar.gz (70 kB)\n",
      "Skipping wheel build for argparse, due to binaries being disabled for it.\n",
      "Installing collected packages: argparse\n",
      "    Running setup.py install for argparse ... \u001b[?25ldone\n",
      "\u001b[?25hSuccessfully installed argparse-1.4.0\n",
      "\u001b[33mWARNING: You are using pip version 21.2.4; however, version 21.3.1 is available.\n",
      "You should consider upgrading via the '/home/ec2-user/anaconda3/envs/python3/bin/python -m pip install --upgrade pip' command.\u001b[0m\n",
      "Requirement already satisfied: requests in /home/ec2-user/anaconda3/envs/python3/lib/python3.6/site-packages (2.26.0)\n",
      "Requirement already satisfied: certifi>=2017.4.17 in /home/ec2-user/anaconda3/envs/python3/lib/python3.6/site-packages (from requests) (2021.10.8)\n",
      "Requirement already satisfied: charset-normalizer~=2.0.0 in /home/ec2-user/anaconda3/envs/python3/lib/python3.6/site-packages (from requests) (2.0.7)\n",
      "Requirement already satisfied: idna<4,>=2.5 in /home/ec2-user/anaconda3/envs/python3/lib/python3.6/site-packages (from requests) (3.3)\n",
      "Requirement already satisfied: urllib3<1.27,>=1.21.1 in /home/ec2-user/anaconda3/envs/python3/lib/python3.6/site-packages (from requests) (1.26.7)\n",
      "\u001b[33mWARNING: You are using pip version 21.2.4; however, version 21.3.1 is available.\n",
      "You should consider upgrading via the '/home/ec2-user/anaconda3/envs/python3/bin/python -m pip install --upgrade pip' command.\u001b[0m\n",
      "Requirement already satisfied: certifi in /home/ec2-user/anaconda3/envs/python3/lib/python3.6/site-packages (2021.10.8)\n",
      "\u001b[33mWARNING: You are using pip version 21.2.4; however, version 21.3.1 is available.\n",
      "You should consider upgrading via the '/home/ec2-user/anaconda3/envs/python3/bin/python -m pip install --upgrade pip' command.\u001b[0m\n",
      "Requirement already satisfied: mwviews in /home/ec2-user/anaconda3/envs/python3/lib/python3.6/site-packages (0.1.0)\n",
      "Requirement already satisfied: mwapi in /home/ec2-user/anaconda3/envs/python3/lib/python3.6/site-packages (from mwviews) (0.5.1)\n",
      "Requirement already satisfied: mwcli in /home/ec2-user/anaconda3/envs/python3/lib/python3.6/site-packages (from mwviews) (0.0.3)\n",
      "Requirement already satisfied: requests in /home/ec2-user/anaconda3/envs/python3/lib/python3.6/site-packages (from mwviews) (2.26.0)\n",
      "Requirement already satisfied: docopt in /home/ec2-user/anaconda3/envs/python3/lib/python3.6/site-packages (from mwcli->mwviews) (0.6.2)\n",
      "Requirement already satisfied: para in /home/ec2-user/anaconda3/envs/python3/lib/python3.6/site-packages (from mwcli->mwviews) (0.0.8)\n",
      "Requirement already satisfied: mwxml in /home/ec2-user/anaconda3/envs/python3/lib/python3.6/site-packages (from mwcli->mwviews) (0.3.3)\n",
      "Requirement already satisfied: jsonschema>=2.5.1 in /home/ec2-user/anaconda3/envs/python3/lib/python3.6/site-packages (from mwxml->mwcli->mwviews) (3.2.0)\n",
      "Requirement already satisfied: mwtypes>=0.3.0 in /home/ec2-user/anaconda3/envs/python3/lib/python3.6/site-packages (from mwxml->mwcli->mwviews) (0.3.2)\n",
      "Requirement already satisfied: pyrsistent>=0.14.0 in /home/ec2-user/anaconda3/envs/python3/lib/python3.6/site-packages (from jsonschema>=2.5.1->mwxml->mwcli->mwviews) (0.18.0)\n",
      "Requirement already satisfied: attrs>=17.4.0 in /home/ec2-user/anaconda3/envs/python3/lib/python3.6/site-packages (from jsonschema>=2.5.1->mwxml->mwcli->mwviews) (21.2.0)\n",
      "Requirement already satisfied: importlib-metadata in /home/ec2-user/anaconda3/envs/python3/lib/python3.6/site-packages (from jsonschema>=2.5.1->mwxml->mwcli->mwviews) (4.8.2)\n",
      "Requirement already satisfied: six>=1.11.0 in /home/ec2-user/anaconda3/envs/python3/lib/python3.6/site-packages (from jsonschema>=2.5.1->mwxml->mwcli->mwviews) (1.16.0)\n",
      "Requirement already satisfied: setuptools in /home/ec2-user/anaconda3/envs/python3/lib/python3.6/site-packages (from jsonschema>=2.5.1->mwxml->mwcli->mwviews) (58.5.3)\n",
      "Requirement already satisfied: jsonable>=0.3.0 in /home/ec2-user/anaconda3/envs/python3/lib/python3.6/site-packages (from mwtypes>=0.3.0->mwxml->mwcli->mwviews) (0.3.1)\n",
      "Requirement already satisfied: typing-extensions>=3.6.4 in /home/ec2-user/anaconda3/envs/python3/lib/python3.6/site-packages (from importlib-metadata->jsonschema>=2.5.1->mwxml->mwcli->mwviews) (3.10.0.2)\n",
      "Requirement already satisfied: zipp>=0.5 in /home/ec2-user/anaconda3/envs/python3/lib/python3.6/site-packages (from importlib-metadata->jsonschema>=2.5.1->mwxml->mwcli->mwviews) (3.6.0)\n",
      "Requirement already satisfied: urllib3<1.27,>=1.21.1 in /home/ec2-user/anaconda3/envs/python3/lib/python3.6/site-packages (from requests->mwviews) (1.26.7)\n",
      "Requirement already satisfied: charset-normalizer~=2.0.0 in /home/ec2-user/anaconda3/envs/python3/lib/python3.6/site-packages (from requests->mwviews) (2.0.7)\n",
      "Requirement already satisfied: idna<4,>=2.5 in /home/ec2-user/anaconda3/envs/python3/lib/python3.6/site-packages (from requests->mwviews) (3.3)\n",
      "Requirement already satisfied: certifi>=2017.4.17 in /home/ec2-user/anaconda3/envs/python3/lib/python3.6/site-packages (from requests->mwviews) (2021.10.8)\n",
      "\u001b[33mWARNING: You are using pip version 21.2.4; however, version 21.3.1 is available.\n",
      "You should consider upgrading via the '/home/ec2-user/anaconda3/envs/python3/bin/python -m pip install --upgrade pip' command.\u001b[0m\n",
      "Collecting git+https://github.com/Commonists/pageview-api.git\n",
      "  Cloning https://github.com/Commonists/pageview-api.git to /tmp/pip-req-build-vva31hds\n",
      "  Running command git clone -q https://github.com/Commonists/pageview-api.git /tmp/pip-req-build-vva31hds\n",
      "  Resolved https://github.com/Commonists/pageview-api.git to commit 39e8b3c3c82f64a500e3dd4f306451c81c7e31b7\n",
      "Requirement already satisfied: requests in /home/ec2-user/anaconda3/envs/python3/lib/python3.6/site-packages (from pageviewapi==0.4.0) (2.26.0)\n",
      "Requirement already satisfied: attrdict in /home/ec2-user/anaconda3/envs/python3/lib/python3.6/site-packages (from pageviewapi==0.4.0) (2.0.1)\n",
      "Requirement already satisfied: six in /home/ec2-user/anaconda3/envs/python3/lib/python3.6/site-packages (from attrdict->pageviewapi==0.4.0) (1.16.0)\n",
      "Requirement already satisfied: certifi>=2017.4.17 in /home/ec2-user/anaconda3/envs/python3/lib/python3.6/site-packages (from requests->pageviewapi==0.4.0) (2021.10.8)\n",
      "Requirement already satisfied: idna<4,>=2.5 in /home/ec2-user/anaconda3/envs/python3/lib/python3.6/site-packages (from requests->pageviewapi==0.4.0) (3.3)\n",
      "Requirement already satisfied: charset-normalizer~=2.0.0 in /home/ec2-user/anaconda3/envs/python3/lib/python3.6/site-packages (from requests->pageviewapi==0.4.0) (2.0.7)\n",
      "Requirement already satisfied: urllib3<1.27,>=1.21.1 in /home/ec2-user/anaconda3/envs/python3/lib/python3.6/site-packages (from requests->pageviewapi==0.4.0) (1.26.7)\n",
      "\u001b[33mWARNING: You are using pip version 21.2.4; however, version 21.3.1 is available.\n",
      "You should consider upgrading via the '/home/ec2-user/anaconda3/envs/python3/bin/python -m pip install --upgrade pip' command.\u001b[0m\n"
     ]
    }
   ],
   "source": [
    "!pip install \"confluent-kafka[avro,json,protobuf]\"\n",
    "!pip install --no-binary :all: argparse\n",
    "!pip install --no-binary :all: requests\n",
    "!pip install --no-binary :all: certifi\n",
    "!pip install mwviews\n",
    "!pip install git+https://github.com/Commonists/pageview-api.git"
   ]
  },
  {
   "cell_type": "code",
   "execution_count": 4,
   "metadata": {},
   "outputs": [
    {
     "name": "stdout",
     "output_type": "stream",
     "text": [
      "Requirement already satisfied: dataclasses in /home/ec2-user/anaconda3/envs/python3/lib/python3.6/site-packages (0.8)\n",
      "\u001b[33mWARNING: You are using pip version 21.2.4; however, version 21.3.1 is available.\n",
      "You should consider upgrading via the '/home/ec2-user/anaconda3/envs/python3/bin/python -m pip install --upgrade pip' command.\u001b[0m\n",
      "Requirement already satisfied: dataclasses-json in /home/ec2-user/anaconda3/envs/python3/lib/python3.6/site-packages (0.5.6)\n",
      "Requirement already satisfied: dataclasses in /home/ec2-user/anaconda3/envs/python3/lib/python3.6/site-packages (from dataclasses-json) (0.8)\n",
      "Requirement already satisfied: marshmallow-enum<2.0.0,>=1.5.1 in /home/ec2-user/anaconda3/envs/python3/lib/python3.6/site-packages (from dataclasses-json) (1.5.1)\n",
      "Requirement already satisfied: marshmallow<4.0.0,>=3.3.0 in /home/ec2-user/anaconda3/envs/python3/lib/python3.6/site-packages (from dataclasses-json) (3.14.1)\n",
      "Requirement already satisfied: typing-inspect>=0.4.0 in /home/ec2-user/anaconda3/envs/python3/lib/python3.6/site-packages (from dataclasses-json) (0.7.1)\n",
      "Requirement already satisfied: typing-extensions>=3.7.4 in /home/ec2-user/anaconda3/envs/python3/lib/python3.6/site-packages (from typing-inspect>=0.4.0->dataclasses-json) (3.10.0.2)\n",
      "Requirement already satisfied: mypy-extensions>=0.3.0 in /home/ec2-user/anaconda3/envs/python3/lib/python3.6/site-packages (from typing-inspect>=0.4.0->dataclasses-json) (0.4.3)\n",
      "\u001b[33mWARNING: You are using pip version 21.2.4; however, version 21.3.1 is available.\n",
      "You should consider upgrading via the '/home/ec2-user/anaconda3/envs/python3/bin/python -m pip install --upgrade pip' command.\u001b[0m\n"
     ]
    }
   ],
   "source": [
    "!pip install dataclasses\n",
    "!pip install dataclasses-json"
   ]
  },
  {
   "cell_type": "code",
   "execution_count": 5,
   "metadata": {},
   "outputs": [],
   "source": [
    "import argparse\n",
    "\n",
    "from confluent_kafka import avro, KafkaError\n",
    "from confluent_kafka.admin import AdminClient, NewTopic\n",
    "from uuid import uuid4\n",
    "import wikipediaapi\n",
    "import json"
   ]
  },
  {
   "cell_type": "code",
   "execution_count": 6,
   "metadata": {},
   "outputs": [],
   "source": [
    "from dataclasses import dataclass\n",
    "from dataclasses_json import dataclass_json\n",
    "\n",
    "\n",
    "@dataclass_json\n",
    "@dataclass\n",
    "class ContextLink:\n",
    "    key: str\n",
    "    lang: str\n",
    "    title: str\n",
    "    fullurl: str\n",
    "    text: str\n",
    "    length: str\n"
   ]
  },
  {
   "cell_type": "code",
   "execution_count": 7,
   "metadata": {},
   "outputs": [],
   "source": [
    "@dataclass_json\n",
    "@dataclass\n",
    "class PageLink:\n",
    "    key: str\n",
    "    lang: str\n",
    "    title: str\n",
    "    fullurl: str\n",
    "    text: str\n",
    "    length: str \n",
    "  "
   ]
  },
  {
   "cell_type": "code",
   "execution_count": 8,
   "metadata": {},
   "outputs": [],
   "source": [
    "class Wikipage(object):\n",
    "    \n",
    "    context = \"DEV001\"\n",
    "    \n",
    "    \"\"\"\n",
    "        Wikipage stores the meta-data for a Wikipage used in the analysis Kafka key.\n",
    "    \"\"\"\n",
    "\n",
    "    # Use __slots__ to explicitly declare all data members.\n",
    "    __slots__ = [\"lang\", \"pagename\", \"categories\", \"id\", \"has_context_graph\", \"pagetext\" , \"lang_links\", \"page_links\", \"wiki\"]\n",
    "\n",
    "    def __init__(self, pagename=None, lang=\"de\" ):\n",
    "  \n",
    "        self.wiki = wikipediaapi.Wikipedia(lang, extract_format=wikipediaapi.ExtractFormat.WIKI)\n",
    "        self.lang = lang\n",
    "        self.pagename = pagename\n",
    "\n",
    "        # Unique id used to track produce request success/failures.\n",
    "        # Do *not* include in the serialized object.\n",
    "        self.id = uuid4()\n",
    "        \n",
    "        self.has_context_graph = False;\n",
    "        self.lang_links = []\n",
    "        self.page_links = []\n",
    "        self.categories = []\n",
    "        self.pagetext = \"\"\n",
    "\n",
    "    @staticmethod\n",
    "    def dict_to_name(obj, ctx):\n",
    "        return Wikipage(obj['pagename'])\n",
    "\n",
    "    @staticmethod\n",
    "    def name_to_dict(name, ctx):\n",
    "        return Wikipage.to_dict(name)\n",
    "\n",
    "    def to_dict(self):\n",
    "        \"\"\"\n",
    "            We must provide a dict representation of our class for serialization.\n",
    "        \"\"\"\n",
    "        return dict(pagename=self.pagename,text=self.pagetext, length=len(self.pagetext))\n",
    "    \n",
    "    def load_text_from_wikipedia_api(self,name):\n",
    "        #print( \"Load pagetext ...\" )\n",
    "        page_py = self.wiki.page(name)\n",
    "        #print( len(page_py.text) )\n",
    "        self.pagetext = page_py.text\n",
    "        self.categories = page_py.categories\n",
    "        #print( self.pagetext )\n",
    "        return\n",
    "    \n",
    "    def print_langlinks(self,page):\n",
    "        langlinks = page.langlinks\n",
    "        for k in sorted(langlinks.keys()):\n",
    "            v = langlinks[k]\n",
    "            print(\"%s: %s - %s: %s\" % (k, v.language, v.title, v.fullurl))\n",
    "            \n",
    "    def print_pagelinks(self,page):\n",
    "        links = page.links\n",
    "        for title in sorted(links.keys()):\n",
    "            print(\"*** %s: %s [%s]\" % (title, links[title], type(links[title])))        \n",
    "\n",
    "    def load_pagelinks(self,page):\n",
    "        nr_of_missing_urls = 0\n",
    "        links = page.links\n",
    "        # for title in sorted(links.keys()):\n",
    "            # print(\"### %s: %s [%s]\" % (title, links[title], type(links[title])))        \n",
    "\n",
    "        for k in sorted(links.keys()):\n",
    "            v = links[k]\n",
    "            #print( v, type(v) )\n",
    "            \n",
    "            try:\n",
    "                #print( v.canonicalurl, v.fullurl )\n",
    "                l = PageLink(k, v.language, v.title, v.lurl, v.text, len(v.text))\n",
    "                self.page_links.append(l)\n",
    "            except Exception as inst:\n",
    "                nr_of_missing_urls = nr_of_missing_urls + 1\n",
    "                l = PageLink(k, v.language, v.title, \"NO_URL\", v.text, len(v.text))\n",
    "                self.page_links.append(l) \n",
    "                \n",
    "        print(\"Oops! {} link-URLs missing on page {}.{}.\\n\".format(nr_of_missing_urls, page.language, page.title ))\n",
    "\n",
    "                \n",
    "    def load_langlinks(self,page):\n",
    "        langlinks = page.langlinks\n",
    "        if ( len(langlinks) > 0 ):\n",
    "            self.has_context_graph = True\n",
    "        for k in sorted(langlinks.keys()):\n",
    "            v = langlinks[k]\n",
    "            #print(\"%s: %s - %s: %s\" % (k, v.language, v.title, v.fullurl))\n",
    "            l = ContextLink(k, v.language, v.title, v.fullurl, v.text, len(v.text))\n",
    "            self.lang_links.append(l)\n",
    "    \n",
    "    def load_links_from_wikipedia_api(self,name):\n",
    "        page_py = self.wiki.page(name)\n",
    "        self.load_langlinks(page_py)\n",
    "        self.load_pagelinks(page_py)\n",
    "        return\n",
    "    \n",
    "    def exists(self):\n",
    "        page_py = self.wiki.page( self.pagename )\n",
    "        return page_py.exists()\n",
    "        \n",
    "    def load_context_graph(self,name):\n",
    "        self.load_text_from_wikipedia_api(name)\n",
    "        self.load_links_from_wikipedia_api(name)\n",
    "\n",
    "    def get_key_dict(self):\n",
    "        key_dict = { 'study_context':self.context, 'lang':'de', 'pagename': self.pagename }\n",
    "        return key_dict\n",
    "\n",
    "    def get_key(self):\n",
    "        return json.dumps(self.get_key_dict())\n",
    "    \n",
    "    def get_page_links(self):\n",
    "        page_links_dict = {}\n",
    "        for i in self.page_links:\n",
    "            page_links_dict[i.key] = i\n",
    "        return page_links_dict\n",
    "        \n",
    "    def get_lang_links(self):\n",
    "        lang_links_dict = {}\n",
    "        for i in self.lang_links:\n",
    "            lang_links_dict[i.key] = i\n",
    "        return lang_links_dict\n",
    "    \n",
    "    def get_value_context_graph(self):\n",
    "        #print( self.get_page_links() )\n",
    "        #print( self.get_lang_links() )\n",
    "        graph_value_dict = { 'key':self.get_key_dict(), 'CentralNode':self.to_dict(), 'zCategories':len(self.categories), 'zPageLinks': len(self.get_page_links()), 'zContextLinks': len(self.get_lang_links())  }\n",
    "        return json.dumps( graph_value_dict )\n",
    "        \n",
    " "
   ]
  },
  {
   "cell_type": "code",
   "execution_count": 9,
   "metadata": {},
   "outputs": [
    {
     "name": "stdout",
     "output_type": "stream",
     "text": [
      "{\"study_context\": \"DEV001\", \"lang\": \"de\", \"pagename\": \"Stollberg\"}\n",
      "{\"key\": {\"study_context\": \"DEV001\", \"lang\": \"de\", \"pagename\": \"Stollberg\"}, \"CentralNode\": {\"pagename\": \"Stollberg\", \"text\": \"\", \"length\": 0}, \"zCategories\": 0, \"zPageLinks\": 0, \"zContextLinks\": 0}\n"
     ]
    }
   ],
   "source": [
    "p1 = Wikipage(pagename='Stollberg')\n",
    "    \n",
    "print( p1.get_key() )\n",
    "print( p1.get_value_context_graph() )\n"
   ]
  },
  {
   "cell_type": "code",
   "execution_count": 10,
   "metadata": {},
   "outputs": [
    {
     "name": "stdout",
     "output_type": "stream",
     "text": [
      "Oops! 35 link-URLs missing on page de.Stollberg.\n",
      "\n",
      "PAGE Stollberg HAS Context Graph: True \n"
     ]
    }
   ],
   "source": [
    "\n",
    "p1.load_context_graph( p1.pagename )\n",
    "\n",
    "if p1.exists() == True:\n",
    "    print( \"PAGE {} HAS Context Graph: {} \".format(p1.pagename, p1.has_context_graph ) )\n",
    "    #print( \"PAGETEXT: {}\".format(p1.pagetext) )\n",
    "    #print( \"        ## Context Graph: \".format(p1.pagename) )   \n",
    "    #print( \"        >> Inter-Wiki Links:\\n{}\".format(p1.lang_links) )   \n",
    "    #print( \"        >> Page Links:\\n{}\".format(p1.page_links) )   \n",
    "else:\n",
    "    print( \"{} DOES NOT EXIST!\".format(p1.pagename))\n"
   ]
  },
  {
   "cell_type": "code",
   "execution_count": 11,
   "metadata": {},
   "outputs": [
    {
     "name": "stdout",
     "output_type": "stream",
     "text": [
      "{\"study_context\": \"DEV001\", \"lang\": \"de\", \"pagename\": \"Stollberg\"}\n",
      "{\"key\": {\"study_context\": \"DEV001\", \"lang\": \"de\", \"pagename\": \"Stollberg\"}, \"CentralNode\": {\"pagename\": \"Stollberg\", \"text\": \"Stollberg steht f\\u00fcr folgende geographischen Objekte:\\nOrte:\\n\\nStollberg/Erzgebirge, Stadt im Erzgebirgskreis, Sachsen\\nStollberg (Bordelum), Ortsteil von Bordelum, Kreis Nordfriesland, Schleswig-Holstein\\nStollberg (Untergriesbach), Ortsteil von Untergriesbach, Landkreis Passau, Bayern\\nStollberg, Katastralgemeinde von Brand-Laaben, Bezirk Sankt P\\u00f6lten-Land, Nieder\\u00f6sterreich\\nStollberg (Thalgau), Ortsteil von Thalgau, Bezirk Salzburg-Umgebung, \\u00d6sterreich\\nStollberg (Littau LU), Ortsteil von Littau, Kanton Luzern, SchweizKreise:\\n\\nLandkreis Stollberg, Landkreis in Sachsen\\nKreis Stollberg, Landkreis im Bezirk Karl-Marx-Stadt, Deutsche Demokratische Republik\\u00c4mter:\\n\\nAmt Stollberg im Kreis Nordfriesland, Schleswig-Holstein\\nAmt Stollberg (Erzgebirge), Amt in SachsenBerge:\\n\\nStollberg (Steigerwald) (475,6 m), Berg im Steigerwald, bei Handthal, Landkreis Schweinfurt, Bayern\\nStollberg (Nordfriesland) (43,4 m), Erhebung bei Bordelum, Kreis Nordfriesland, Schleswig-HolsteinBurgen:\\n\\nBurgruine Stollburg, im Steigerwald, bei Handthal, Landkreis Schweinfurt, BayernStollberg ist der Familienname folgender Personen:\\n\\nAlfred Hofmann-Stollberg (1882\\u20131962), deutscher Maler und Grafiker\\nArne Stollberg (* 1973), deutscher Musikwissenschaftler\\nBarbara Stollberg-Rilinger (* 1955), deutsche Historikerin\\nBernhard Stollberg (1861\\u20131929), deutscher Generalmajor\\nErhard Stollberg (* 1943), deutscher Politiker (CDU)\\nDietrich Stollberg (1937\\u20132014), deutscher Theologe, Pastoralpsychologe und Hochschullehrer\\nDirk Stollberg (* 1979), deutscher Musicaldarsteller und Synchronsprecher\\nFritz Stollberg (1888\\u20131948), deutscher Politiker (NSDAP)\\nGustav Stollberg (Politiker, 1866) (1866\\u20131928), deutscher Politiker (SPD), MdR\\nGustav Stollberg (Politiker, 1898) (1898\\u20131978), deutscher Politiker (SPD), MdL Niedersachsen\\nIgnaz Georg Stollberg (eigentlich Ignaz Georg Stolzberg; 1853\\u20131926), \\u00f6sterreichischer Schauspieler, Theaterdirektor und Regisseur\\nKlaus-Peter Stollberg (* 1959), deutscher Judoka\\nKurt Stollberg, deutscher Fu\\u00dfballspieler\\nOtto Karl Stollberg (1883\\u20131948), deutscher VerlegerSiehe auch:\\n\\nStollbergs Inferno, Roman von Michael Schmidt-Salomon (2003)\\nStollbergsche Buchdruckerei und Verlagsbuchhandlung in Gera, Th\\u00fcringen\\nStolberg\", \"length\": 2217}, \"zCategories\": 1, \"zPageLinks\": 35, \"zContextLinks\": 6}\n"
     ]
    }
   ],
   "source": [
    "print( p1.get_key() )\n",
    "print( p1.get_value_context_graph() )"
   ]
  },
  {
   "cell_type": "code",
   "execution_count": 12,
   "metadata": {},
   "outputs": [],
   "source": [
    "class Count(object):\n",
    "    \"\"\"\n",
    "        Count stores the pageview counts.\n",
    "    \"\"\"\n",
    "\n",
    "    # Use __slots__ to explicitly declare all data members.\n",
    "    __slots__ = [\"count\", \"id\"]\n",
    "\n",
    "    def __init__(self, count=None):\n",
    "        self.count = count\n",
    "        # Unique id used to track produce request success/failures.\n",
    "        # Do *not* include in the serialized object.\n",
    "        self.id = uuid4()\n",
    "\n",
    "    @staticmethod\n",
    "    def dict_to_count(obj, ctx):\n",
    "        return Count(obj['count'])\n",
    "\n",
    "    @staticmethod\n",
    "    def count_to_dict(count, ctx):\n",
    "        return Count.to_dict(count)\n",
    "\n",
    "    def to_dict(self):\n",
    "        \"\"\"\n",
    "            We must provide a dict representation of our class for serialization.\n",
    "        \"\"\"\n",
    "        return dict(count=self.count)"
   ]
  },
  {
   "cell_type": "code",
   "execution_count": 13,
   "metadata": {},
   "outputs": [],
   "source": [
    "#\n",
    "# Helper function to read CCloud configuration.\n",
    "#\n",
    "def read_ccloud_config(config_file):\n",
    "    \"\"\"Read Confluent Cloud configuration for librdkafka clients\"\"\"\n",
    "\n",
    "    conf = {}\n",
    "    with open(config_file) as fh:\n",
    "        for line in fh:\n",
    "            line = line.strip()\n",
    "            if len(line) != 0 and line[0] != \"#\":\n",
    "                parameter, value = line.strip().split('=', 1)\n",
    "                conf[parameter] = value.strip()\n",
    "\n",
    "    return conf\n",
    "\n",
    "#\n",
    "# Helper function to create Kafka Topic.\n",
    "#\n",
    "def create_topic(conf, topic):\n",
    "    \"\"\"\n",
    "        Create a topic if needed\n",
    "        Examples of additional admin API functionality:\n",
    "        https://github.com/confluentinc/confluent-kafka-python/blob/master/examples/adminapi.py\n",
    "    \"\"\"\n",
    "\n",
    "    a = AdminClient({\n",
    "           'bootstrap.servers': conf['bootstrap.servers'],\n",
    "           'sasl.mechanisms': 'PLAIN',\n",
    "           'security.protocol': 'SASL_SSL',\n",
    "           'sasl.username': conf['sasl.username'],\n",
    "           'sasl.password': conf['sasl.password']\n",
    "    })\n",
    "    fs = a.create_topics([NewTopic(\n",
    "         topic,\n",
    "         num_partitions=1,\n",
    "         replication_factor=3\n",
    "    )])\n",
    "    for topic, f in fs.items():\n",
    "        try:\n",
    "            f.result()  # The result itself is None\n",
    "            print(\"Topic {} created\".format(topic))\n",
    "        except Exception as e:\n",
    "            # Continue if error code TOPIC_ALREADY_EXISTS, which may be true\n",
    "            # Otherwise fail fast\n",
    "            if e.args[0].code() != KafkaError.TOPIC_ALREADY_EXISTS:\n",
    "                print(\"Failed to create topic {}: {}\".format(topic, e))\n",
    "                sys.exit(1)"
   ]
  },
  {
   "cell_type": "code",
   "execution_count": 14,
   "metadata": {},
   "outputs": [],
   "source": [
    "\n",
    "# =============================================================================\n",
    "#\n",
    "# Produce messages to Confluent Cloud\n",
    "#\n",
    "# Using Confluent Python Client for Apache Kafka\n",
    "# Writes JSON data, no integration with Confluent Cloud Schema Registry\n",
    "#\n",
    "# =============================================================================\n",
    "from confluent_kafka import Producer\n",
    "from confluent_kafka.serialization import StringSerializer\n",
    "\n"
   ]
  },
  {
   "cell_type": "code",
   "execution_count": 24,
   "metadata": {},
   "outputs": [
    {
     "name": "stdout",
     "output_type": "stream",
     "text": [
      "{'request.timeout.ms': '20000', 'retry.backoff.ms': '500', 'key.serializer': 'org.apache.kafka.common.serialization.StringSerializer', 'value.serializer': 'io.confluent.kafka.serializers.KafkaAvroSerializer', 'bootstrap.servers': 'pkc-zm3p0.eu-north-1.aws.confluent.cloud:9092', 'security.protocol': 'SASL_SSL', 'sasl.mechanisms': 'PLAIN', 'sasl.username': 'RHV2GUBWOQ2K63NQ', 'sasl.password': '6mhQ8hoxSShsg2DILjFYO9m5KGpl/6c3pN09sO1Zb4aeyOoZxhirl7LclHJ8k0fV', 'schema.registry.url': 'https://psrc-xm8wx.eu-central-1.aws.confluent.cloud', 'basic.auth.credentials.source': 'USER_INFO', 'basic.auth.user.info': 'RJ2CVSTZX5S4GPAC:f7ZaChPx88StOzi2PIYqOExym/gj1S49jRF9/dtz0Bygmwa2HPYYvQOveX7Hk7Bd'}\n"
     ]
    },
    {
     "data": {
      "text/plain": [
       "'io.confluent.kafka.serializers.KafkaAvroSerializer'"
      ]
     },
     "execution_count": 24,
     "metadata": {},
     "output_type": "execute_result"
    }
   ],
   "source": [
    "\n",
    "\n",
    "\n",
    "# Define arguments and configurations and initialize\n",
    "\n",
    "#config_file = \"/Users/mkaempf/.confluent/python.config\"\n",
    "#\n",
    "# The current path is inside the cloned project ... so we can use relative paths.\n",
    "#\n",
    "config_file = \"./../../config/private/ccloud.props\"\n",
    "\n",
    "topic_context_graph = \"aws_sm_topic_context_graph\"\n",
    "topic_pageview_episodes = \"aws_sm_topic_pageview_episodes\"\n",
    "\n",
    "conf = read_ccloud_config(config_file)\n",
    "\n",
    "print( conf )\n",
    "\n",
    "#\n",
    "# The producer doesn't like some properties:\n",
    "#\n",
    "# for full list of configurations, see:\n",
    "#  https://docs.confluent.io/platform/current/clients/confluent-kafka-python/#serializingproducer\n",
    "conf.pop( 'schema.registry.url' )\n",
    "conf.pop( 'basic.auth.credentials.source' )\n",
    "conf.pop( 'basic.auth.user.info' )\n",
    "conf.pop( 'key.serializer' )\n",
    "conf.pop( 'value.serializer' )\n",
    "\n"
   ]
  },
  {
   "cell_type": "code",
   "execution_count": 25,
   "metadata": {},
   "outputs": [
    {
     "name": "stdout",
     "output_type": "stream",
     "text": [
      "Topic aws_sm_topic_context_graph created\n",
      "Topic aws_sm_topic_pageview_episodes created\n"
     ]
    }
   ],
   "source": [
    "create_topic( conf, topic_context_graph )\n",
    "create_topic( conf, topic_pageview_episodes )\n",
    "\n",
    "producer = Producer(conf)\n",
    "\n",
    "delivered_records = 0"
   ]
  },
  {
   "cell_type": "code",
   "execution_count": 26,
   "metadata": {},
   "outputs": [],
   "source": [
    "# Optional per-message on_delivery handler (triggered by poll() or flush())\n",
    "# when a message has been successfully delivered or\n",
    "# permanently failed delivery (after retries).\n",
    "def acked(err, msg):\n",
    "    global delivered_records\n",
    "    \"\"\"Delivery report handler called on\n",
    "    successful or failed delivery of message\n",
    "    \"\"\"\n",
    "    if err is not None:\n",
    "        print(\"Failed to deliver message: {}\".format(err))\n",
    "    else:\n",
    "        delivered_records += 1\n",
    "        print(\"Produced record to topic {} partition [{}] @ offset {}\"\n",
    "              .format(msg.topic(), msg.partition(), msg.offset()))\n",
    "        "
   ]
  },
  {
   "cell_type": "code",
   "execution_count": 32,
   "metadata": {},
   "outputs": [
    {
     "name": "stdout",
     "output_type": "stream",
     "text": [
      "now = 2021-11-21 13:25:18.181467\n",
      "date and time = 21/11/2021 13:25:18\n",
      "### Processing [Stollberg]\n",
      "Oops! 35 link-URLs missing on page de.Stollberg.\n",
      "\n",
      "Producing JSON record: Stollberg\t2\n",
      "### Processing [Bern]\n"
     ]
    },
    {
     "ename": "ConnectionError",
     "evalue": "HTTPSConnectionPool(host='hsb.wikipedia.org', port=443): Max retries exceeded with url: /w/api.php?action=query&prop=extracts&titles=Bern&explaintext=1&exsectionformat=wiki&format=json&redirects=1 (Caused by NewConnectionError('<urllib3.connection.HTTPSConnection object at 0x7f1ee479fac8>: Failed to establish a new connection: [Errno 101] Network is unreachable',))",
     "output_type": "error",
     "traceback": [
      "\u001b[0;31m---------------------------------------------------------------------------\u001b[0m",
      "\u001b[0;31mOSError\u001b[0m                                   Traceback (most recent call last)",
      "\u001b[0;32m~/anaconda3/envs/python3/lib/python3.6/site-packages/urllib3/connection.py\u001b[0m in \u001b[0;36m_new_conn\u001b[0;34m(self)\u001b[0m\n\u001b[1;32m    174\u001b[0m             conn = connection.create_connection(\n\u001b[0;32m--> 175\u001b[0;31m                 \u001b[0;34m(\u001b[0m\u001b[0mself\u001b[0m\u001b[0;34m.\u001b[0m\u001b[0m_dns_host\u001b[0m\u001b[0;34m,\u001b[0m \u001b[0mself\u001b[0m\u001b[0;34m.\u001b[0m\u001b[0mport\u001b[0m\u001b[0;34m)\u001b[0m\u001b[0;34m,\u001b[0m \u001b[0mself\u001b[0m\u001b[0;34m.\u001b[0m\u001b[0mtimeout\u001b[0m\u001b[0;34m,\u001b[0m \u001b[0;34m**\u001b[0m\u001b[0mextra_kw\u001b[0m\u001b[0;34m\u001b[0m\u001b[0;34m\u001b[0m\u001b[0m\n\u001b[0m\u001b[1;32m    176\u001b[0m             )\n",
      "\u001b[0;32m~/anaconda3/envs/python3/lib/python3.6/site-packages/urllib3/util/connection.py\u001b[0m in \u001b[0;36mcreate_connection\u001b[0;34m(address, timeout, source_address, socket_options)\u001b[0m\n\u001b[1;32m     95\u001b[0m     \u001b[0;32mif\u001b[0m \u001b[0merr\u001b[0m \u001b[0;32mis\u001b[0m \u001b[0;32mnot\u001b[0m \u001b[0;32mNone\u001b[0m\u001b[0;34m:\u001b[0m\u001b[0;34m\u001b[0m\u001b[0;34m\u001b[0m\u001b[0m\n\u001b[0;32m---> 96\u001b[0;31m         \u001b[0;32mraise\u001b[0m \u001b[0merr\u001b[0m\u001b[0;34m\u001b[0m\u001b[0;34m\u001b[0m\u001b[0m\n\u001b[0m\u001b[1;32m     97\u001b[0m \u001b[0;34m\u001b[0m\u001b[0m\n",
      "\u001b[0;32m~/anaconda3/envs/python3/lib/python3.6/site-packages/urllib3/util/connection.py\u001b[0m in \u001b[0;36mcreate_connection\u001b[0;34m(address, timeout, source_address, socket_options)\u001b[0m\n\u001b[1;32m     85\u001b[0m                 \u001b[0msock\u001b[0m\u001b[0;34m.\u001b[0m\u001b[0mbind\u001b[0m\u001b[0;34m(\u001b[0m\u001b[0msource_address\u001b[0m\u001b[0;34m)\u001b[0m\u001b[0;34m\u001b[0m\u001b[0;34m\u001b[0m\u001b[0m\n\u001b[0;32m---> 86\u001b[0;31m             \u001b[0msock\u001b[0m\u001b[0;34m.\u001b[0m\u001b[0mconnect\u001b[0m\u001b[0;34m(\u001b[0m\u001b[0msa\u001b[0m\u001b[0;34m)\u001b[0m\u001b[0;34m\u001b[0m\u001b[0;34m\u001b[0m\u001b[0m\n\u001b[0m\u001b[1;32m     87\u001b[0m             \u001b[0;32mreturn\u001b[0m \u001b[0msock\u001b[0m\u001b[0;34m\u001b[0m\u001b[0;34m\u001b[0m\u001b[0m\n",
      "\u001b[0;31mOSError\u001b[0m: [Errno 101] Network is unreachable",
      "\nDuring handling of the above exception, another exception occurred:\n",
      "\u001b[0;31mNewConnectionError\u001b[0m                        Traceback (most recent call last)",
      "\u001b[0;32m~/anaconda3/envs/python3/lib/python3.6/site-packages/urllib3/connectionpool.py\u001b[0m in \u001b[0;36murlopen\u001b[0;34m(self, method, url, body, headers, retries, redirect, assert_same_host, timeout, pool_timeout, release_conn, chunked, body_pos, **response_kw)\u001b[0m\n\u001b[1;32m    705\u001b[0m                 \u001b[0mheaders\u001b[0m\u001b[0;34m=\u001b[0m\u001b[0mheaders\u001b[0m\u001b[0;34m,\u001b[0m\u001b[0;34m\u001b[0m\u001b[0;34m\u001b[0m\u001b[0m\n\u001b[0;32m--> 706\u001b[0;31m                 \u001b[0mchunked\u001b[0m\u001b[0;34m=\u001b[0m\u001b[0mchunked\u001b[0m\u001b[0;34m,\u001b[0m\u001b[0;34m\u001b[0m\u001b[0;34m\u001b[0m\u001b[0m\n\u001b[0m\u001b[1;32m    707\u001b[0m             )\n",
      "\u001b[0;32m~/anaconda3/envs/python3/lib/python3.6/site-packages/urllib3/connectionpool.py\u001b[0m in \u001b[0;36m_make_request\u001b[0;34m(self, conn, method, url, timeout, chunked, **httplib_request_kw)\u001b[0m\n\u001b[1;32m    381\u001b[0m         \u001b[0;32mtry\u001b[0m\u001b[0;34m:\u001b[0m\u001b[0;34m\u001b[0m\u001b[0;34m\u001b[0m\u001b[0m\n\u001b[0;32m--> 382\u001b[0;31m             \u001b[0mself\u001b[0m\u001b[0;34m.\u001b[0m\u001b[0m_validate_conn\u001b[0m\u001b[0;34m(\u001b[0m\u001b[0mconn\u001b[0m\u001b[0;34m)\u001b[0m\u001b[0;34m\u001b[0m\u001b[0;34m\u001b[0m\u001b[0m\n\u001b[0m\u001b[1;32m    383\u001b[0m         \u001b[0;32mexcept\u001b[0m \u001b[0;34m(\u001b[0m\u001b[0mSocketTimeout\u001b[0m\u001b[0;34m,\u001b[0m \u001b[0mBaseSSLError\u001b[0m\u001b[0;34m)\u001b[0m \u001b[0;32mas\u001b[0m \u001b[0me\u001b[0m\u001b[0;34m:\u001b[0m\u001b[0;34m\u001b[0m\u001b[0;34m\u001b[0m\u001b[0m\n",
      "\u001b[0;32m~/anaconda3/envs/python3/lib/python3.6/site-packages/urllib3/connectionpool.py\u001b[0m in \u001b[0;36m_validate_conn\u001b[0;34m(self, conn)\u001b[0m\n\u001b[1;32m   1009\u001b[0m         \u001b[0;32mif\u001b[0m \u001b[0;32mnot\u001b[0m \u001b[0mgetattr\u001b[0m\u001b[0;34m(\u001b[0m\u001b[0mconn\u001b[0m\u001b[0;34m,\u001b[0m \u001b[0;34m\"sock\"\u001b[0m\u001b[0;34m,\u001b[0m \u001b[0;32mNone\u001b[0m\u001b[0;34m)\u001b[0m\u001b[0;34m:\u001b[0m  \u001b[0;31m# AppEngine might not have  `.sock`\u001b[0m\u001b[0;34m\u001b[0m\u001b[0;34m\u001b[0m\u001b[0m\n\u001b[0;32m-> 1010\u001b[0;31m             \u001b[0mconn\u001b[0m\u001b[0;34m.\u001b[0m\u001b[0mconnect\u001b[0m\u001b[0;34m(\u001b[0m\u001b[0;34m)\u001b[0m\u001b[0;34m\u001b[0m\u001b[0;34m\u001b[0m\u001b[0m\n\u001b[0m\u001b[1;32m   1011\u001b[0m \u001b[0;34m\u001b[0m\u001b[0m\n",
      "\u001b[0;32m~/anaconda3/envs/python3/lib/python3.6/site-packages/urllib3/connection.py\u001b[0m in \u001b[0;36mconnect\u001b[0;34m(self)\u001b[0m\n\u001b[1;32m    357\u001b[0m         \u001b[0;31m# Add certificate verification\u001b[0m\u001b[0;34m\u001b[0m\u001b[0;34m\u001b[0m\u001b[0;34m\u001b[0m\u001b[0m\n\u001b[0;32m--> 358\u001b[0;31m         \u001b[0mconn\u001b[0m \u001b[0;34m=\u001b[0m \u001b[0mself\u001b[0m\u001b[0;34m.\u001b[0m\u001b[0m_new_conn\u001b[0m\u001b[0;34m(\u001b[0m\u001b[0;34m)\u001b[0m\u001b[0;34m\u001b[0m\u001b[0;34m\u001b[0m\u001b[0m\n\u001b[0m\u001b[1;32m    359\u001b[0m         \u001b[0mhostname\u001b[0m \u001b[0;34m=\u001b[0m \u001b[0mself\u001b[0m\u001b[0;34m.\u001b[0m\u001b[0mhost\u001b[0m\u001b[0;34m\u001b[0m\u001b[0;34m\u001b[0m\u001b[0m\n",
      "\u001b[0;32m~/anaconda3/envs/python3/lib/python3.6/site-packages/urllib3/connection.py\u001b[0m in \u001b[0;36m_new_conn\u001b[0;34m(self)\u001b[0m\n\u001b[1;32m    186\u001b[0m             raise NewConnectionError(\n\u001b[0;32m--> 187\u001b[0;31m                 \u001b[0mself\u001b[0m\u001b[0;34m,\u001b[0m \u001b[0;34m\"Failed to establish a new connection: %s\"\u001b[0m \u001b[0;34m%\u001b[0m \u001b[0me\u001b[0m\u001b[0;34m\u001b[0m\u001b[0;34m\u001b[0m\u001b[0m\n\u001b[0m\u001b[1;32m    188\u001b[0m             )\n",
      "\u001b[0;31mNewConnectionError\u001b[0m: <urllib3.connection.HTTPSConnection object at 0x7f1ee479fac8>: Failed to establish a new connection: [Errno 101] Network is unreachable",
      "\nDuring handling of the above exception, another exception occurred:\n",
      "\u001b[0;31mMaxRetryError\u001b[0m                             Traceback (most recent call last)",
      "\u001b[0;32m~/anaconda3/envs/python3/lib/python3.6/site-packages/requests/adapters.py\u001b[0m in \u001b[0;36msend\u001b[0;34m(self, request, stream, timeout, verify, cert, proxies)\u001b[0m\n\u001b[1;32m    448\u001b[0m                     \u001b[0mretries\u001b[0m\u001b[0;34m=\u001b[0m\u001b[0mself\u001b[0m\u001b[0;34m.\u001b[0m\u001b[0mmax_retries\u001b[0m\u001b[0;34m,\u001b[0m\u001b[0;34m\u001b[0m\u001b[0;34m\u001b[0m\u001b[0m\n\u001b[0;32m--> 449\u001b[0;31m                     \u001b[0mtimeout\u001b[0m\u001b[0;34m=\u001b[0m\u001b[0mtimeout\u001b[0m\u001b[0;34m\u001b[0m\u001b[0;34m\u001b[0m\u001b[0m\n\u001b[0m\u001b[1;32m    450\u001b[0m                 )\n",
      "\u001b[0;32m~/anaconda3/envs/python3/lib/python3.6/site-packages/urllib3/connectionpool.py\u001b[0m in \u001b[0;36murlopen\u001b[0;34m(self, method, url, body, headers, retries, redirect, assert_same_host, timeout, pool_timeout, release_conn, chunked, body_pos, **response_kw)\u001b[0m\n\u001b[1;32m    755\u001b[0m             retries = retries.increment(\n\u001b[0;32m--> 756\u001b[0;31m                 \u001b[0mmethod\u001b[0m\u001b[0;34m,\u001b[0m \u001b[0murl\u001b[0m\u001b[0;34m,\u001b[0m \u001b[0merror\u001b[0m\u001b[0;34m=\u001b[0m\u001b[0me\u001b[0m\u001b[0;34m,\u001b[0m \u001b[0m_pool\u001b[0m\u001b[0;34m=\u001b[0m\u001b[0mself\u001b[0m\u001b[0;34m,\u001b[0m \u001b[0m_stacktrace\u001b[0m\u001b[0;34m=\u001b[0m\u001b[0msys\u001b[0m\u001b[0;34m.\u001b[0m\u001b[0mexc_info\u001b[0m\u001b[0;34m(\u001b[0m\u001b[0;34m)\u001b[0m\u001b[0;34m[\u001b[0m\u001b[0;36m2\u001b[0m\u001b[0;34m]\u001b[0m\u001b[0;34m\u001b[0m\u001b[0;34m\u001b[0m\u001b[0m\n\u001b[0m\u001b[1;32m    757\u001b[0m             )\n",
      "\u001b[0;32m~/anaconda3/envs/python3/lib/python3.6/site-packages/urllib3/util/retry.py\u001b[0m in \u001b[0;36mincrement\u001b[0;34m(self, method, url, response, error, _pool, _stacktrace)\u001b[0m\n\u001b[1;32m    573\u001b[0m         \u001b[0;32mif\u001b[0m \u001b[0mnew_retry\u001b[0m\u001b[0;34m.\u001b[0m\u001b[0mis_exhausted\u001b[0m\u001b[0;34m(\u001b[0m\u001b[0;34m)\u001b[0m\u001b[0;34m:\u001b[0m\u001b[0;34m\u001b[0m\u001b[0;34m\u001b[0m\u001b[0m\n\u001b[0;32m--> 574\u001b[0;31m             \u001b[0;32mraise\u001b[0m \u001b[0mMaxRetryError\u001b[0m\u001b[0;34m(\u001b[0m\u001b[0m_pool\u001b[0m\u001b[0;34m,\u001b[0m \u001b[0murl\u001b[0m\u001b[0;34m,\u001b[0m \u001b[0merror\u001b[0m \u001b[0;32mor\u001b[0m \u001b[0mResponseError\u001b[0m\u001b[0;34m(\u001b[0m\u001b[0mcause\u001b[0m\u001b[0;34m)\u001b[0m\u001b[0;34m)\u001b[0m\u001b[0;34m\u001b[0m\u001b[0;34m\u001b[0m\u001b[0m\n\u001b[0m\u001b[1;32m    575\u001b[0m \u001b[0;34m\u001b[0m\u001b[0m\n",
      "\u001b[0;31mMaxRetryError\u001b[0m: HTTPSConnectionPool(host='hsb.wikipedia.org', port=443): Max retries exceeded with url: /w/api.php?action=query&prop=extracts&titles=Bern&explaintext=1&exsectionformat=wiki&format=json&redirects=1 (Caused by NewConnectionError('<urllib3.connection.HTTPSConnection object at 0x7f1ee479fac8>: Failed to establish a new connection: [Errno 101] Network is unreachable',))",
      "\nDuring handling of the above exception, another exception occurred:\n",
      "\u001b[0;31mConnectionError\u001b[0m                           Traceback (most recent call last)",
      "\u001b[0;32m<ipython-input-32-2c6696d42b9c>\u001b[0m in \u001b[0;36m<module>\u001b[0;34m\u001b[0m\n\u001b[1;32m     22\u001b[0m \u001b[0;34m\u001b[0m\u001b[0m\n\u001b[1;32m     23\u001b[0m     \u001b[0mpage_object\u001b[0m \u001b[0;34m=\u001b[0m \u001b[0mWikipage\u001b[0m\u001b[0;34m(\u001b[0m\u001b[0mpagename\u001b[0m\u001b[0;34m=\u001b[0m\u001b[0mpn\u001b[0m\u001b[0;34m)\u001b[0m\u001b[0;34m\u001b[0m\u001b[0;34m\u001b[0m\u001b[0m\n\u001b[0;32m---> 24\u001b[0;31m     \u001b[0mpage_object\u001b[0m\u001b[0;34m.\u001b[0m\u001b[0mload_context_graph\u001b[0m\u001b[0;34m(\u001b[0m \u001b[0mpage_object\u001b[0m\u001b[0;34m.\u001b[0m\u001b[0mpagename\u001b[0m \u001b[0;34m)\u001b[0m\u001b[0;34m\u001b[0m\u001b[0;34m\u001b[0m\u001b[0m\n\u001b[0m\u001b[1;32m     25\u001b[0m \u001b[0;34m\u001b[0m\u001b[0m\n\u001b[1;32m     26\u001b[0m     \u001b[0mcount_object\u001b[0m \u001b[0;34m=\u001b[0m \u001b[0mCount\u001b[0m\u001b[0;34m(\u001b[0m\u001b[0;34m)\u001b[0m\u001b[0;34m\u001b[0m\u001b[0;34m\u001b[0m\u001b[0m\n",
      "\u001b[0;32m<ipython-input-8-529633d45f08>\u001b[0m in \u001b[0;36mload_context_graph\u001b[0;34m(self, name)\u001b[0m\n\u001b[1;32m    104\u001b[0m     \u001b[0;32mdef\u001b[0m \u001b[0mload_context_graph\u001b[0m\u001b[0;34m(\u001b[0m\u001b[0mself\u001b[0m\u001b[0;34m,\u001b[0m\u001b[0mname\u001b[0m\u001b[0;34m)\u001b[0m\u001b[0;34m:\u001b[0m\u001b[0;34m\u001b[0m\u001b[0;34m\u001b[0m\u001b[0m\n\u001b[1;32m    105\u001b[0m         \u001b[0mself\u001b[0m\u001b[0;34m.\u001b[0m\u001b[0mload_text_from_wikipedia_api\u001b[0m\u001b[0;34m(\u001b[0m\u001b[0mname\u001b[0m\u001b[0;34m)\u001b[0m\u001b[0;34m\u001b[0m\u001b[0;34m\u001b[0m\u001b[0m\n\u001b[0;32m--> 106\u001b[0;31m         \u001b[0mself\u001b[0m\u001b[0;34m.\u001b[0m\u001b[0mload_links_from_wikipedia_api\u001b[0m\u001b[0;34m(\u001b[0m\u001b[0mname\u001b[0m\u001b[0;34m)\u001b[0m\u001b[0;34m\u001b[0m\u001b[0;34m\u001b[0m\u001b[0m\n\u001b[0m\u001b[1;32m    107\u001b[0m \u001b[0;34m\u001b[0m\u001b[0m\n\u001b[1;32m    108\u001b[0m     \u001b[0;32mdef\u001b[0m \u001b[0mget_key_dict\u001b[0m\u001b[0;34m(\u001b[0m\u001b[0mself\u001b[0m\u001b[0;34m)\u001b[0m\u001b[0;34m:\u001b[0m\u001b[0;34m\u001b[0m\u001b[0;34m\u001b[0m\u001b[0m\n",
      "\u001b[0;32m<ipython-input-8-529633d45f08>\u001b[0m in \u001b[0;36mload_links_from_wikipedia_api\u001b[0;34m(self, name)\u001b[0m\n\u001b[1;32m     94\u001b[0m     \u001b[0;32mdef\u001b[0m \u001b[0mload_links_from_wikipedia_api\u001b[0m\u001b[0;34m(\u001b[0m\u001b[0mself\u001b[0m\u001b[0;34m,\u001b[0m\u001b[0mname\u001b[0m\u001b[0;34m)\u001b[0m\u001b[0;34m:\u001b[0m\u001b[0;34m\u001b[0m\u001b[0;34m\u001b[0m\u001b[0m\n\u001b[1;32m     95\u001b[0m         \u001b[0mpage_py\u001b[0m \u001b[0;34m=\u001b[0m \u001b[0mself\u001b[0m\u001b[0;34m.\u001b[0m\u001b[0mwiki\u001b[0m\u001b[0;34m.\u001b[0m\u001b[0mpage\u001b[0m\u001b[0;34m(\u001b[0m\u001b[0mname\u001b[0m\u001b[0;34m)\u001b[0m\u001b[0;34m\u001b[0m\u001b[0;34m\u001b[0m\u001b[0m\n\u001b[0;32m---> 96\u001b[0;31m         \u001b[0mself\u001b[0m\u001b[0;34m.\u001b[0m\u001b[0mload_langlinks\u001b[0m\u001b[0;34m(\u001b[0m\u001b[0mpage_py\u001b[0m\u001b[0;34m)\u001b[0m\u001b[0;34m\u001b[0m\u001b[0;34m\u001b[0m\u001b[0m\n\u001b[0m\u001b[1;32m     97\u001b[0m         \u001b[0mself\u001b[0m\u001b[0;34m.\u001b[0m\u001b[0mload_pagelinks\u001b[0m\u001b[0;34m(\u001b[0m\u001b[0mpage_py\u001b[0m\u001b[0;34m)\u001b[0m\u001b[0;34m\u001b[0m\u001b[0;34m\u001b[0m\u001b[0m\n\u001b[1;32m     98\u001b[0m         \u001b[0;32mreturn\u001b[0m\u001b[0;34m\u001b[0m\u001b[0;34m\u001b[0m\u001b[0m\n",
      "\u001b[0;32m<ipython-input-8-529633d45f08>\u001b[0m in \u001b[0;36mload_langlinks\u001b[0;34m(self, page)\u001b[0m\n\u001b[1;32m     89\u001b[0m             \u001b[0mv\u001b[0m \u001b[0;34m=\u001b[0m \u001b[0mlanglinks\u001b[0m\u001b[0;34m[\u001b[0m\u001b[0mk\u001b[0m\u001b[0;34m]\u001b[0m\u001b[0;34m\u001b[0m\u001b[0;34m\u001b[0m\u001b[0m\n\u001b[1;32m     90\u001b[0m             \u001b[0;31m#print(\"%s: %s - %s: %s\" % (k, v.language, v.title, v.fullurl))\u001b[0m\u001b[0;34m\u001b[0m\u001b[0;34m\u001b[0m\u001b[0;34m\u001b[0m\u001b[0m\n\u001b[0;32m---> 91\u001b[0;31m             \u001b[0ml\u001b[0m \u001b[0;34m=\u001b[0m \u001b[0mContextLink\u001b[0m\u001b[0;34m(\u001b[0m\u001b[0mk\u001b[0m\u001b[0;34m,\u001b[0m \u001b[0mv\u001b[0m\u001b[0;34m.\u001b[0m\u001b[0mlanguage\u001b[0m\u001b[0;34m,\u001b[0m \u001b[0mv\u001b[0m\u001b[0;34m.\u001b[0m\u001b[0mtitle\u001b[0m\u001b[0;34m,\u001b[0m \u001b[0mv\u001b[0m\u001b[0;34m.\u001b[0m\u001b[0mfullurl\u001b[0m\u001b[0;34m,\u001b[0m \u001b[0mv\u001b[0m\u001b[0;34m.\u001b[0m\u001b[0mtext\u001b[0m\u001b[0;34m,\u001b[0m \u001b[0mlen\u001b[0m\u001b[0;34m(\u001b[0m\u001b[0mv\u001b[0m\u001b[0;34m.\u001b[0m\u001b[0mtext\u001b[0m\u001b[0;34m)\u001b[0m\u001b[0;34m)\u001b[0m\u001b[0;34m\u001b[0m\u001b[0;34m\u001b[0m\u001b[0m\n\u001b[0m\u001b[1;32m     92\u001b[0m             \u001b[0mself\u001b[0m\u001b[0;34m.\u001b[0m\u001b[0mlang_links\u001b[0m\u001b[0;34m.\u001b[0m\u001b[0mappend\u001b[0m\u001b[0;34m(\u001b[0m\u001b[0ml\u001b[0m\u001b[0;34m)\u001b[0m\u001b[0;34m\u001b[0m\u001b[0;34m\u001b[0m\u001b[0m\n\u001b[1;32m     93\u001b[0m \u001b[0;34m\u001b[0m\u001b[0m\n",
      "\u001b[0;32m~/anaconda3/envs/python3/lib/python3.6/site-packages/wikipediaapi/__init__.py\u001b[0m in \u001b[0;36mtext\u001b[0;34m(self)\u001b[0m\n\u001b[1;32m   1058\u001b[0m         \u001b[0;34m:\u001b[0m\u001b[0;32mreturn\u001b[0m\u001b[0;34m:\u001b[0m \u001b[0mtext\u001b[0m \u001b[0mof\u001b[0m \u001b[0mthe\u001b[0m \u001b[0mcurrent\u001b[0m \u001b[0mpage\u001b[0m\u001b[0;34m\u001b[0m\u001b[0;34m\u001b[0m\u001b[0m\n\u001b[1;32m   1059\u001b[0m         \"\"\"\n\u001b[0;32m-> 1060\u001b[0;31m         \u001b[0mtxt\u001b[0m \u001b[0;34m=\u001b[0m \u001b[0mself\u001b[0m\u001b[0;34m.\u001b[0m\u001b[0msummary\u001b[0m\u001b[0;34m\u001b[0m\u001b[0;34m\u001b[0m\u001b[0m\n\u001b[0m\u001b[1;32m   1061\u001b[0m         \u001b[0;32mif\u001b[0m \u001b[0mlen\u001b[0m\u001b[0;34m(\u001b[0m\u001b[0mtxt\u001b[0m\u001b[0;34m)\u001b[0m \u001b[0;34m>\u001b[0m \u001b[0;36m0\u001b[0m\u001b[0;34m:\u001b[0m\u001b[0;34m\u001b[0m\u001b[0;34m\u001b[0m\u001b[0m\n\u001b[1;32m   1062\u001b[0m             \u001b[0mtxt\u001b[0m \u001b[0;34m+=\u001b[0m \u001b[0;34m\"\\n\\n\"\u001b[0m\u001b[0;34m\u001b[0m\u001b[0;34m\u001b[0m\u001b[0m\n",
      "\u001b[0;32m~/anaconda3/envs/python3/lib/python3.6/site-packages/wikipediaapi/__init__.py\u001b[0m in \u001b[0;36msummary\u001b[0;34m(self)\u001b[0m\n\u001b[1;32m   1023\u001b[0m         \"\"\"\n\u001b[1;32m   1024\u001b[0m         \u001b[0;32mif\u001b[0m \u001b[0;32mnot\u001b[0m \u001b[0mself\u001b[0m\u001b[0;34m.\u001b[0m\u001b[0m_called\u001b[0m\u001b[0;34m[\u001b[0m\u001b[0;34m'extracts'\u001b[0m\u001b[0;34m]\u001b[0m\u001b[0;34m:\u001b[0m\u001b[0;34m\u001b[0m\u001b[0;34m\u001b[0m\u001b[0m\n\u001b[0;32m-> 1025\u001b[0;31m             \u001b[0mself\u001b[0m\u001b[0;34m.\u001b[0m\u001b[0m_fetch\u001b[0m\u001b[0;34m(\u001b[0m\u001b[0;34m'extracts'\u001b[0m\u001b[0;34m)\u001b[0m\u001b[0;34m\u001b[0m\u001b[0;34m\u001b[0m\u001b[0m\n\u001b[0m\u001b[1;32m   1026\u001b[0m         \u001b[0;32mreturn\u001b[0m \u001b[0mself\u001b[0m\u001b[0;34m.\u001b[0m\u001b[0m_summary\u001b[0m\u001b[0;34m\u001b[0m\u001b[0;34m\u001b[0m\u001b[0m\n\u001b[1;32m   1027\u001b[0m \u001b[0;34m\u001b[0m\u001b[0m\n",
      "\u001b[0;32m~/anaconda3/envs/python3/lib/python3.6/site-packages/wikipediaapi/__init__.py\u001b[0m in \u001b[0;36m_fetch\u001b[0;34m(self, call)\u001b[0m\n\u001b[1;32m   1146\u001b[0m \u001b[0;34m\u001b[0m\u001b[0m\n\u001b[1;32m   1147\u001b[0m     \u001b[0;32mdef\u001b[0m \u001b[0m_fetch\u001b[0m\u001b[0;34m(\u001b[0m\u001b[0mself\u001b[0m\u001b[0;34m,\u001b[0m \u001b[0mcall\u001b[0m\u001b[0;34m)\u001b[0m \u001b[0;34m->\u001b[0m \u001b[0;34m'WikipediaPage'\u001b[0m\u001b[0;34m:\u001b[0m\u001b[0;34m\u001b[0m\u001b[0;34m\u001b[0m\u001b[0m\n\u001b[0;32m-> 1148\u001b[0;31m         \u001b[0mgetattr\u001b[0m\u001b[0;34m(\u001b[0m\u001b[0mself\u001b[0m\u001b[0;34m.\u001b[0m\u001b[0mwiki\u001b[0m\u001b[0;34m,\u001b[0m \u001b[0mcall\u001b[0m\u001b[0;34m)\u001b[0m\u001b[0;34m(\u001b[0m\u001b[0mself\u001b[0m\u001b[0;34m)\u001b[0m\u001b[0;34m\u001b[0m\u001b[0;34m\u001b[0m\u001b[0m\n\u001b[0m\u001b[1;32m   1149\u001b[0m         \u001b[0mself\u001b[0m\u001b[0;34m.\u001b[0m\u001b[0m_called\u001b[0m\u001b[0;34m[\u001b[0m\u001b[0mcall\u001b[0m\u001b[0;34m]\u001b[0m \u001b[0;34m=\u001b[0m \u001b[0;32mTrue\u001b[0m\u001b[0;34m\u001b[0m\u001b[0;34m\u001b[0m\u001b[0m\n\u001b[1;32m   1150\u001b[0m         \u001b[0;32mreturn\u001b[0m \u001b[0mself\u001b[0m\u001b[0;34m\u001b[0m\u001b[0;34m\u001b[0m\u001b[0m\n",
      "\u001b[0;32m~/anaconda3/envs/python3/lib/python3.6/site-packages/wikipediaapi/__init__.py\u001b[0m in \u001b[0;36mextracts\u001b[0;34m(self, page, **kwargs)\u001b[0m\n\u001b[1;32m    285\u001b[0m         raw = self._query(\n\u001b[1;32m    286\u001b[0m             \u001b[0mpage\u001b[0m\u001b[0;34m,\u001b[0m\u001b[0;34m\u001b[0m\u001b[0;34m\u001b[0m\u001b[0m\n\u001b[0;32m--> 287\u001b[0;31m             \u001b[0mused_params\u001b[0m\u001b[0;34m\u001b[0m\u001b[0;34m\u001b[0m\u001b[0m\n\u001b[0m\u001b[1;32m    288\u001b[0m         )\n\u001b[1;32m    289\u001b[0m         \u001b[0mself\u001b[0m\u001b[0;34m.\u001b[0m\u001b[0m_common_attributes\u001b[0m\u001b[0;34m(\u001b[0m\u001b[0mraw\u001b[0m\u001b[0;34m[\u001b[0m\u001b[0;34m'query'\u001b[0m\u001b[0;34m]\u001b[0m\u001b[0;34m,\u001b[0m \u001b[0mpage\u001b[0m\u001b[0;34m)\u001b[0m\u001b[0;34m\u001b[0m\u001b[0;34m\u001b[0m\u001b[0m\n",
      "\u001b[0;32m~/anaconda3/envs/python3/lib/python3.6/site-packages/wikipediaapi/__init__.py\u001b[0m in \u001b[0;36m_query\u001b[0;34m(self, page, params)\u001b[0m\n\u001b[1;32m    581\u001b[0m             \u001b[0mbase_url\u001b[0m\u001b[0;34m,\u001b[0m\u001b[0;34m\u001b[0m\u001b[0;34m\u001b[0m\u001b[0m\n\u001b[1;32m    582\u001b[0m             \u001b[0mparams\u001b[0m\u001b[0;34m=\u001b[0m\u001b[0mparams\u001b[0m\u001b[0;34m,\u001b[0m\u001b[0;34m\u001b[0m\u001b[0;34m\u001b[0m\u001b[0m\n\u001b[0;32m--> 583\u001b[0;31m             \u001b[0;34m**\u001b[0m\u001b[0mself\u001b[0m\u001b[0;34m.\u001b[0m\u001b[0m_request_kwargs\u001b[0m\u001b[0;34m\u001b[0m\u001b[0;34m\u001b[0m\u001b[0m\n\u001b[0m\u001b[1;32m    584\u001b[0m         )\n\u001b[1;32m    585\u001b[0m         \u001b[0;32mreturn\u001b[0m \u001b[0mr\u001b[0m\u001b[0;34m.\u001b[0m\u001b[0mjson\u001b[0m\u001b[0;34m(\u001b[0m\u001b[0;34m)\u001b[0m\u001b[0;34m\u001b[0m\u001b[0;34m\u001b[0m\u001b[0m\n",
      "\u001b[0;32m~/anaconda3/envs/python3/lib/python3.6/site-packages/requests/sessions.py\u001b[0m in \u001b[0;36mget\u001b[0;34m(self, url, **kwargs)\u001b[0m\n\u001b[1;32m    553\u001b[0m \u001b[0;34m\u001b[0m\u001b[0m\n\u001b[1;32m    554\u001b[0m         \u001b[0mkwargs\u001b[0m\u001b[0;34m.\u001b[0m\u001b[0msetdefault\u001b[0m\u001b[0;34m(\u001b[0m\u001b[0;34m'allow_redirects'\u001b[0m\u001b[0;34m,\u001b[0m \u001b[0;32mTrue\u001b[0m\u001b[0;34m)\u001b[0m\u001b[0;34m\u001b[0m\u001b[0;34m\u001b[0m\u001b[0m\n\u001b[0;32m--> 555\u001b[0;31m         \u001b[0;32mreturn\u001b[0m \u001b[0mself\u001b[0m\u001b[0;34m.\u001b[0m\u001b[0mrequest\u001b[0m\u001b[0;34m(\u001b[0m\u001b[0;34m'GET'\u001b[0m\u001b[0;34m,\u001b[0m \u001b[0murl\u001b[0m\u001b[0;34m,\u001b[0m \u001b[0;34m**\u001b[0m\u001b[0mkwargs\u001b[0m\u001b[0;34m)\u001b[0m\u001b[0;34m\u001b[0m\u001b[0;34m\u001b[0m\u001b[0m\n\u001b[0m\u001b[1;32m    556\u001b[0m \u001b[0;34m\u001b[0m\u001b[0m\n\u001b[1;32m    557\u001b[0m     \u001b[0;32mdef\u001b[0m \u001b[0moptions\u001b[0m\u001b[0;34m(\u001b[0m\u001b[0mself\u001b[0m\u001b[0;34m,\u001b[0m \u001b[0murl\u001b[0m\u001b[0;34m,\u001b[0m \u001b[0;34m**\u001b[0m\u001b[0mkwargs\u001b[0m\u001b[0;34m)\u001b[0m\u001b[0;34m:\u001b[0m\u001b[0;34m\u001b[0m\u001b[0;34m\u001b[0m\u001b[0m\n",
      "\u001b[0;32m~/anaconda3/envs/python3/lib/python3.6/site-packages/requests/sessions.py\u001b[0m in \u001b[0;36mrequest\u001b[0;34m(self, method, url, params, data, headers, cookies, files, auth, timeout, allow_redirects, proxies, hooks, stream, verify, cert, json)\u001b[0m\n\u001b[1;32m    540\u001b[0m         }\n\u001b[1;32m    541\u001b[0m         \u001b[0msend_kwargs\u001b[0m\u001b[0;34m.\u001b[0m\u001b[0mupdate\u001b[0m\u001b[0;34m(\u001b[0m\u001b[0msettings\u001b[0m\u001b[0;34m)\u001b[0m\u001b[0;34m\u001b[0m\u001b[0;34m\u001b[0m\u001b[0m\n\u001b[0;32m--> 542\u001b[0;31m         \u001b[0mresp\u001b[0m \u001b[0;34m=\u001b[0m \u001b[0mself\u001b[0m\u001b[0;34m.\u001b[0m\u001b[0msend\u001b[0m\u001b[0;34m(\u001b[0m\u001b[0mprep\u001b[0m\u001b[0;34m,\u001b[0m \u001b[0;34m**\u001b[0m\u001b[0msend_kwargs\u001b[0m\u001b[0;34m)\u001b[0m\u001b[0;34m\u001b[0m\u001b[0;34m\u001b[0m\u001b[0m\n\u001b[0m\u001b[1;32m    543\u001b[0m \u001b[0;34m\u001b[0m\u001b[0m\n\u001b[1;32m    544\u001b[0m         \u001b[0;32mreturn\u001b[0m \u001b[0mresp\u001b[0m\u001b[0;34m\u001b[0m\u001b[0;34m\u001b[0m\u001b[0m\n",
      "\u001b[0;32m~/anaconda3/envs/python3/lib/python3.6/site-packages/requests/sessions.py\u001b[0m in \u001b[0;36msend\u001b[0;34m(self, request, **kwargs)\u001b[0m\n\u001b[1;32m    653\u001b[0m \u001b[0;34m\u001b[0m\u001b[0m\n\u001b[1;32m    654\u001b[0m         \u001b[0;31m# Send the request\u001b[0m\u001b[0;34m\u001b[0m\u001b[0;34m\u001b[0m\u001b[0;34m\u001b[0m\u001b[0m\n\u001b[0;32m--> 655\u001b[0;31m         \u001b[0mr\u001b[0m \u001b[0;34m=\u001b[0m \u001b[0madapter\u001b[0m\u001b[0;34m.\u001b[0m\u001b[0msend\u001b[0m\u001b[0;34m(\u001b[0m\u001b[0mrequest\u001b[0m\u001b[0;34m,\u001b[0m \u001b[0;34m**\u001b[0m\u001b[0mkwargs\u001b[0m\u001b[0;34m)\u001b[0m\u001b[0;34m\u001b[0m\u001b[0;34m\u001b[0m\u001b[0m\n\u001b[0m\u001b[1;32m    656\u001b[0m \u001b[0;34m\u001b[0m\u001b[0m\n\u001b[1;32m    657\u001b[0m         \u001b[0;31m# Total elapsed time of the request (approximately)\u001b[0m\u001b[0;34m\u001b[0m\u001b[0;34m\u001b[0m\u001b[0;34m\u001b[0m\u001b[0m\n",
      "\u001b[0;32m~/anaconda3/envs/python3/lib/python3.6/site-packages/requests/adapters.py\u001b[0m in \u001b[0;36msend\u001b[0;34m(self, request, stream, timeout, verify, cert, proxies)\u001b[0m\n\u001b[1;32m    514\u001b[0m                 \u001b[0;32mraise\u001b[0m \u001b[0mSSLError\u001b[0m\u001b[0;34m(\u001b[0m\u001b[0me\u001b[0m\u001b[0;34m,\u001b[0m \u001b[0mrequest\u001b[0m\u001b[0;34m=\u001b[0m\u001b[0mrequest\u001b[0m\u001b[0;34m)\u001b[0m\u001b[0;34m\u001b[0m\u001b[0;34m\u001b[0m\u001b[0m\n\u001b[1;32m    515\u001b[0m \u001b[0;34m\u001b[0m\u001b[0m\n\u001b[0;32m--> 516\u001b[0;31m             \u001b[0;32mraise\u001b[0m \u001b[0mConnectionError\u001b[0m\u001b[0;34m(\u001b[0m\u001b[0me\u001b[0m\u001b[0;34m,\u001b[0m \u001b[0mrequest\u001b[0m\u001b[0;34m=\u001b[0m\u001b[0mrequest\u001b[0m\u001b[0;34m)\u001b[0m\u001b[0;34m\u001b[0m\u001b[0;34m\u001b[0m\u001b[0m\n\u001b[0m\u001b[1;32m    517\u001b[0m \u001b[0;34m\u001b[0m\u001b[0m\n\u001b[1;32m    518\u001b[0m         \u001b[0;32mexcept\u001b[0m \u001b[0mClosedPoolError\u001b[0m \u001b[0;32mas\u001b[0m \u001b[0me\u001b[0m\u001b[0;34m:\u001b[0m\u001b[0;34m\u001b[0m\u001b[0;34m\u001b[0m\u001b[0m\n",
      "\u001b[0;31mConnectionError\u001b[0m: HTTPSConnectionPool(host='hsb.wikipedia.org', port=443): Max retries exceeded with url: /w/api.php?action=query&prop=extracts&titles=Bern&explaintext=1&exsectionformat=wiki&format=json&redirects=1 (Caused by NewConnectionError('<urllib3.connection.HTTPSConnection object at 0x7f1ee479fac8>: Failed to establish a new connection: [Errno 101] Network is unreachable',))"
     ]
    }
   ],
   "source": [
    "pages = [\"Stollberg\", \"Bern\", \"Helsinki\", \"Paris\", \"London\", \"Berlin\", \"New_York_City\" ]\n",
    "\n",
    "import pageviewapi\n",
    "\n",
    "from datetime import datetime\n",
    "\n",
    "# datetime object containing current date and time\n",
    "tStart = datetime.now()\n",
    " \n",
    "print(\"now =\", tStart)\n",
    "\n",
    "# dd/mm/YY H:M:S\n",
    "dt_string = tStart.strftime(\"%d/%m/%Y %H:%M:%S\")\n",
    "print(\"date and time =\", dt_string)\n",
    "\n",
    "n = 1\n",
    "for pn in pages:\n",
    "    \n",
    "    print( \"### Processing [{}]\".format(pn) )\n",
    "    \n",
    "    n = n+1\n",
    "    \n",
    "    page_object = Wikipage(pagename=pn)\n",
    "    page_object.load_context_graph( page_object.pagename )\n",
    "    \n",
    "    count_object = Count()\n",
    "    count_object.count = n\n",
    "    \n",
    "    print(\"Producing JSON record: {}\\t{}\".format(page_object.pagename, count_object.count))\n",
    "    \n",
    "    if page_object.has_context_graph == True:\n",
    "           \n",
    "        graph_data = page_object.get_value_context_graph()\n",
    " \n",
    "        ts_data = pageviewapi.per_article( '{}.wikipedia'.format(page_object.lang), pn, '20200101', '20201231',\n",
    "                        access='all-access', agent='all-agents', granularity='daily')\n",
    "        \n",
    "        producer.produce(topic=topic_context_graph, key=page_object.get_key(), value=json.dumps(graph_data), on_delivery=acked)\n",
    "        producer.produce(topic=topic_pageview_episodes, key=page_object.get_key(), value=json.dumps(ts_data), on_delivery=acked)\n",
    "\n",
    "        producer.poll(0)\n",
    "\n",
    "    else:\n",
    "        print(\"No data for page {}\".format(page_object.pagename))\n",
    "        \n",
    "\n",
    "producer.flush()\n",
    "\n",
    "print(\"{} messages were produced to topic {}!\".format(delivered_records, topic))\n",
    "\n",
    "tEnd = datetime.now()\n",
    " \n",
    "print(\"now =\", tEnd)\n",
    "\n",
    "print(\"loadtime => \", tEnd - tStart)"
   ]
  },
  {
   "cell_type": "code",
   "execution_count": 22,
   "metadata": {},
   "outputs": [
    {
     "data": {
      "text/plain": [
       "AttrDict({'items': [{'project': 'en.wikipedia', 'article': 'Paris', 'granularity': 'daily', 'timestamp': '2015110600', 'access': 'all-access', 'agent': 'all-agents', 'views': 9168}, {'project': 'en.wikipedia', 'article': 'Paris', 'granularity': 'daily', 'timestamp': '2015110700', 'access': 'all-access', 'agent': 'all-agents', 'views': 7939}, {'project': 'en.wikipedia', 'article': 'Paris', 'granularity': 'daily', 'timestamp': '2015110800', 'access': 'all-access', 'agent': 'all-agents', 'views': 8337}, {'project': 'en.wikipedia', 'article': 'Paris', 'granularity': 'daily', 'timestamp': '2015110900', 'access': 'all-access', 'agent': 'all-agents', 'views': 9355}, {'project': 'en.wikipedia', 'article': 'Paris', 'granularity': 'daily', 'timestamp': '2015111000', 'access': 'all-access', 'agent': 'all-agents', 'views': 9485}, {'project': 'en.wikipedia', 'article': 'Paris', 'granularity': 'daily', 'timestamp': '2015111100', 'access': 'all-access', 'agent': 'all-agents', 'views': 9140}, {'project': 'en.wikipedia', 'article': 'Paris', 'granularity': 'daily', 'timestamp': '2015111200', 'access': 'all-access', 'agent': 'all-agents', 'views': 9263}, {'project': 'en.wikipedia', 'article': 'Paris', 'granularity': 'daily', 'timestamp': '2015111300', 'access': 'all-access', 'agent': 'all-agents', 'views': 23367}, {'project': 'en.wikipedia', 'article': 'Paris', 'granularity': 'daily', 'timestamp': '2015111400', 'access': 'all-access', 'agent': 'all-agents', 'views': 174387}, {'project': 'en.wikipedia', 'article': 'Paris', 'granularity': 'daily', 'timestamp': '2015111500', 'access': 'all-access', 'agent': 'all-agents', 'views': 71814}, {'project': 'en.wikipedia', 'article': 'Paris', 'granularity': 'daily', 'timestamp': '2015111600', 'access': 'all-access', 'agent': 'all-agents', 'views': 55434}, {'project': 'en.wikipedia', 'article': 'Paris', 'granularity': 'daily', 'timestamp': '2015111700', 'access': 'all-access', 'agent': 'all-agents', 'views': 34942}, {'project': 'en.wikipedia', 'article': 'Paris', 'granularity': 'daily', 'timestamp': '2015111800', 'access': 'all-access', 'agent': 'all-agents', 'views': 31529}, {'project': 'en.wikipedia', 'article': 'Paris', 'granularity': 'daily', 'timestamp': '2015111900', 'access': 'all-access', 'agent': 'all-agents', 'views': 21335}, {'project': 'en.wikipedia', 'article': 'Paris', 'granularity': 'daily', 'timestamp': '2015112000', 'access': 'all-access', 'agent': 'all-agents', 'views': 18081}]})"
      ]
     },
     "execution_count": 22,
     "metadata": {},
     "output_type": "execute_result"
    }
   ],
   "source": [
    "\n",
    "pageviewapi.per_article('en.wikipedia', 'Paris', '20151106', '20151120',\n",
    "                        access='all-access', agent='all-agents', granularity='daily')"
   ]
  },
  {
   "cell_type": "code",
   "execution_count": 23,
   "metadata": {},
   "outputs": [
    {
     "data": {
      "text/plain": [
       "AttrDict({'items': [{'project': 'fr.wikipedia', 'access-site': 'all-sites', 'granularity': 'daily', 'timestamp': '2010010100', 'count': 14939284}, {'project': 'fr.wikipedia', 'access-site': 'all-sites', 'granularity': 'daily', 'timestamp': '2010010200', 'count': 15944604}, {'project': 'fr.wikipedia', 'access-site': 'all-sites', 'granularity': 'daily', 'timestamp': '2010010300', 'count': 15641373}, {'project': 'fr.wikipedia', 'access-site': 'all-sites', 'granularity': 'daily', 'timestamp': '2010010400', 'count': 14295617}, {'project': 'fr.wikipedia', 'access-site': 'all-sites', 'granularity': 'daily', 'timestamp': '2010010500', 'count': 13814118}, {'project': 'fr.wikipedia', 'access-site': 'all-sites', 'granularity': 'daily', 'timestamp': '2010010600', 'count': 17645546}, {'project': 'fr.wikipedia', 'access-site': 'all-sites', 'granularity': 'daily', 'timestamp': '2010010700', 'count': 17253156}, {'project': 'fr.wikipedia', 'access-site': 'all-sites', 'granularity': 'daily', 'timestamp': '2010010800', 'count': 17148590}, {'project': 'fr.wikipedia', 'access-site': 'all-sites', 'granularity': 'daily', 'timestamp': '2010010900', 'count': 16768752}, {'project': 'fr.wikipedia', 'access-site': 'all-sites', 'granularity': 'daily', 'timestamp': '2010011000', 'count': 18423990}, {'project': 'fr.wikipedia', 'access-site': 'all-sites', 'granularity': 'daily', 'timestamp': '2010011100', 'count': 17312745}, {'project': 'fr.wikipedia', 'access-site': 'all-sites', 'granularity': 'daily', 'timestamp': '2010011200', 'count': 17701626}, {'project': 'fr.wikipedia', 'access-site': 'all-sites', 'granularity': 'daily', 'timestamp': '2010011300', 'count': 18473395}, {'project': 'fr.wikipedia', 'access-site': 'all-sites', 'granularity': 'daily', 'timestamp': '2010011400', 'count': 17941553}, {'project': 'fr.wikipedia', 'access-site': 'all-sites', 'granularity': 'daily', 'timestamp': '2010011500', 'count': 18079647}, {'project': 'fr.wikipedia', 'access-site': 'all-sites', 'granularity': 'daily', 'timestamp': '2010011600', 'count': 18584929}, {'project': 'fr.wikipedia', 'access-site': 'all-sites', 'granularity': 'daily', 'timestamp': '2010011700', 'count': 18814862}, {'project': 'fr.wikipedia', 'access-site': 'all-sites', 'granularity': 'daily', 'timestamp': '2010011800', 'count': 19314585}, {'project': 'fr.wikipedia', 'access-site': 'all-sites', 'granularity': 'daily', 'timestamp': '2010011900', 'count': 19118515}, {'project': 'fr.wikipedia', 'access-site': 'all-sites', 'granularity': 'daily', 'timestamp': '2010012000', 'count': 18606315}, {'project': 'fr.wikipedia', 'access-site': 'all-sites', 'granularity': 'daily', 'timestamp': '2010012100', 'count': 17530285}, {'project': 'fr.wikipedia', 'access-site': 'all-sites', 'granularity': 'daily', 'timestamp': '2010012200', 'count': 18172665}, {'project': 'fr.wikipedia', 'access-site': 'all-sites', 'granularity': 'daily', 'timestamp': '2010012300', 'count': 1116806}, {'project': 'fr.wikipedia', 'access-site': 'all-sites', 'granularity': 'daily', 'timestamp': '2010012500', 'count': 18681061}, {'project': 'fr.wikipedia', 'access-site': 'all-sites', 'granularity': 'daily', 'timestamp': '2010012600', 'count': 19112219}, {'project': 'fr.wikipedia', 'access-site': 'all-sites', 'granularity': 'daily', 'timestamp': '2010012700', 'count': 19972285}, {'project': 'fr.wikipedia', 'access-site': 'all-sites', 'granularity': 'daily', 'timestamp': '2010012800', 'count': 19173536}, {'project': 'fr.wikipedia', 'access-site': 'all-sites', 'granularity': 'daily', 'timestamp': '2010012900', 'count': 16868464}, {'project': 'fr.wikipedia', 'access-site': 'all-sites', 'granularity': 'daily', 'timestamp': '2010013000', 'count': 19834227}, {'project': 'fr.wikipedia', 'access-site': 'all-sites', 'granularity': 'daily', 'timestamp': '2010013100', 'count': 19909896}, {'project': 'fr.wikipedia', 'access-site': 'all-sites', 'granularity': 'daily', 'timestamp': '2010020100', 'count': 19346102}, {'project': 'fr.wikipedia', 'access-site': 'all-sites', 'granularity': 'daily', 'timestamp': '2010020200', 'count': 17739341}, {'project': 'fr.wikipedia', 'access-site': 'all-sites', 'granularity': 'daily', 'timestamp': '2010020300', 'count': 19503311}, {'project': 'fr.wikipedia', 'access-site': 'all-sites', 'granularity': 'daily', 'timestamp': '2010020400', 'count': 18653695}, {'project': 'fr.wikipedia', 'access-site': 'all-sites', 'granularity': 'daily', 'timestamp': '2010020500', 'count': 17969974}, {'project': 'fr.wikipedia', 'access-site': 'all-sites', 'granularity': 'daily', 'timestamp': '2010020600', 'count': 17811748}, {'project': 'fr.wikipedia', 'access-site': 'all-sites', 'granularity': 'daily', 'timestamp': '2010020700', 'count': 18352770}, {'project': 'fr.wikipedia', 'access-site': 'all-sites', 'granularity': 'daily', 'timestamp': '2010020800', 'count': 13254615}, {'project': 'fr.wikipedia', 'access-site': 'all-sites', 'granularity': 'daily', 'timestamp': '2010020900', 'count': 17739561}, {'project': 'fr.wikipedia', 'access-site': 'all-sites', 'granularity': 'daily', 'timestamp': '2010021000', 'count': 17875734}, {'project': 'fr.wikipedia', 'access-site': 'all-sites', 'granularity': 'daily', 'timestamp': '2010021100', 'count': 18337312}, {'project': 'fr.wikipedia', 'access-site': 'all-sites', 'granularity': 'daily', 'timestamp': '2010021200', 'count': 18086037}, {'project': 'fr.wikipedia', 'access-site': 'all-sites', 'granularity': 'daily', 'timestamp': '2010021300', 'count': 17220648}, {'project': 'fr.wikipedia', 'access-site': 'all-sites', 'granularity': 'daily', 'timestamp': '2010021400', 'count': 17949618}, {'project': 'fr.wikipedia', 'access-site': 'all-sites', 'granularity': 'daily', 'timestamp': '2010021500', 'count': 17889203}, {'project': 'fr.wikipedia', 'access-site': 'all-sites', 'granularity': 'daily', 'timestamp': '2010021600', 'count': 17251393}, {'project': 'fr.wikipedia', 'access-site': 'all-sites', 'granularity': 'daily', 'timestamp': '2010021700', 'count': 17587763}, {'project': 'fr.wikipedia', 'access-site': 'all-sites', 'granularity': 'daily', 'timestamp': '2010021800', 'count': 17351595}, {'project': 'fr.wikipedia', 'access-site': 'all-sites', 'granularity': 'daily', 'timestamp': '2010021900', 'count': 15961548}, {'project': 'fr.wikipedia', 'access-site': 'all-sites', 'granularity': 'daily', 'timestamp': '2010022000', 'count': 17170961}, {'project': 'fr.wikipedia', 'access-site': 'all-sites', 'granularity': 'daily', 'timestamp': '2010022100', 'count': 18485290}, {'project': 'fr.wikipedia', 'access-site': 'all-sites', 'granularity': 'daily', 'timestamp': '2010022200', 'count': 18894032}, {'project': 'fr.wikipedia', 'access-site': 'all-sites', 'granularity': 'daily', 'timestamp': '2010022300', 'count': 18052564}, {'project': 'fr.wikipedia', 'access-site': 'all-sites', 'granularity': 'daily', 'timestamp': '2010022400', 'count': 15825540}, {'project': 'fr.wikipedia', 'access-site': 'all-sites', 'granularity': 'daily', 'timestamp': '2010022500', 'count': 14428977}, {'project': 'fr.wikipedia', 'access-site': 'all-sites', 'granularity': 'daily', 'timestamp': '2010022600', 'count': 13806935}, {'project': 'fr.wikipedia', 'access-site': 'all-sites', 'granularity': 'daily', 'timestamp': '2010022700', 'count': 17513891}, {'project': 'fr.wikipedia', 'access-site': 'all-sites', 'granularity': 'daily', 'timestamp': '2010022800', 'count': 17913631}, {'project': 'fr.wikipedia', 'access-site': 'all-sites', 'granularity': 'daily', 'timestamp': '2010030100', 'count': 16275543}, {'project': 'fr.wikipedia', 'access-site': 'all-sites', 'granularity': 'daily', 'timestamp': '2010030200', 'count': 16621517}, {'project': 'fr.wikipedia', 'access-site': 'all-sites', 'granularity': 'daily', 'timestamp': '2010030300', 'count': 17555688}, {'project': 'fr.wikipedia', 'access-site': 'all-sites', 'granularity': 'daily', 'timestamp': '2010030400', 'count': 16892907}, {'project': 'fr.wikipedia', 'access-site': 'all-sites', 'granularity': 'daily', 'timestamp': '2010030500', 'count': 17258704}, {'project': 'fr.wikipedia', 'access-site': 'all-sites', 'granularity': 'daily', 'timestamp': '2010030600', 'count': 17380164}, {'project': 'fr.wikipedia', 'access-site': 'all-sites', 'granularity': 'daily', 'timestamp': '2010030700', 'count': 18582485}, {'project': 'fr.wikipedia', 'access-site': 'all-sites', 'granularity': 'daily', 'timestamp': '2010030800', 'count': 17566373}, {'project': 'fr.wikipedia', 'access-site': 'all-sites', 'granularity': 'daily', 'timestamp': '2010030900', 'count': 16686710}, {'project': 'fr.wikipedia', 'access-site': 'all-sites', 'granularity': 'daily', 'timestamp': '2010031000', 'count': 16776575}, {'project': 'fr.wikipedia', 'access-site': 'all-sites', 'granularity': 'daily', 'timestamp': '2010031100', 'count': 16022017}, {'project': 'fr.wikipedia', 'access-site': 'all-sites', 'granularity': 'daily', 'timestamp': '2010031200', 'count': 17056803}, {'project': 'fr.wikipedia', 'access-site': 'all-sites', 'granularity': 'daily', 'timestamp': '2010031300', 'count': 16866290}, {'project': 'fr.wikipedia', 'access-site': 'all-sites', 'granularity': 'daily', 'timestamp': '2010031400', 'count': 17381741}, {'project': 'fr.wikipedia', 'access-site': 'all-sites', 'granularity': 'daily', 'timestamp': '2010031500', 'count': 16268576}, {'project': 'fr.wikipedia', 'access-site': 'all-sites', 'granularity': 'daily', 'timestamp': '2010031600', 'count': 15480857}, {'project': 'fr.wikipedia', 'access-site': 'all-sites', 'granularity': 'daily', 'timestamp': '2010031700', 'count': 16345346}, {'project': 'fr.wikipedia', 'access-site': 'all-sites', 'granularity': 'daily', 'timestamp': '2010031800', 'count': 16260679}, {'project': 'fr.wikipedia', 'access-site': 'all-sites', 'granularity': 'daily', 'timestamp': '2010031900', 'count': 16585100}, {'project': 'fr.wikipedia', 'access-site': 'all-sites', 'granularity': 'daily', 'timestamp': '2010032000', 'count': 16543533}, {'project': 'fr.wikipedia', 'access-site': 'all-sites', 'granularity': 'daily', 'timestamp': '2010032100', 'count': 16708394}, {'project': 'fr.wikipedia', 'access-site': 'all-sites', 'granularity': 'daily', 'timestamp': '2010032200', 'count': 15459862}, {'project': 'fr.wikipedia', 'access-site': 'all-sites', 'granularity': 'daily', 'timestamp': '2010032300', 'count': 15331731}, {'project': 'fr.wikipedia', 'access-site': 'all-sites', 'granularity': 'daily', 'timestamp': '2010032400', 'count': 16360868}, {'project': 'fr.wikipedia', 'access-site': 'all-sites', 'granularity': 'daily', 'timestamp': '2010032500', 'count': 15203811}, {'project': 'fr.wikipedia', 'access-site': 'all-sites', 'granularity': 'daily', 'timestamp': '2010032600', 'count': 15565031}, {'project': 'fr.wikipedia', 'access-site': 'all-sites', 'granularity': 'daily', 'timestamp': '2010032700', 'count': 15746413}, {'project': 'fr.wikipedia', 'access-site': 'all-sites', 'granularity': 'daily', 'timestamp': '2010032800', 'count': 16001209}, {'project': 'fr.wikipedia', 'access-site': 'all-sites', 'granularity': 'daily', 'timestamp': '2010032900', 'count': 15640264}, {'project': 'fr.wikipedia', 'access-site': 'all-sites', 'granularity': 'daily', 'timestamp': '2010033000', 'count': 15143426}, {'project': 'fr.wikipedia', 'access-site': 'all-sites', 'granularity': 'daily', 'timestamp': '2010033100', 'count': 16427330}, {'project': 'fr.wikipedia', 'access-site': 'all-sites', 'granularity': 'daily', 'timestamp': '2010040100', 'count': 16085589}, {'project': 'fr.wikipedia', 'access-site': 'all-sites', 'granularity': 'daily', 'timestamp': '2010040200', 'count': 15617531}, {'project': 'fr.wikipedia', 'access-site': 'all-sites', 'granularity': 'daily', 'timestamp': '2010040300', 'count': 15385444}, {'project': 'fr.wikipedia', 'access-site': 'all-sites', 'granularity': 'daily', 'timestamp': '2010040400', 'count': 15318967}, {'project': 'fr.wikipedia', 'access-site': 'all-sites', 'granularity': 'daily', 'timestamp': '2010040500', 'count': 15314124}, {'project': 'fr.wikipedia', 'access-site': 'all-sites', 'granularity': 'daily', 'timestamp': '2010040600', 'count': 14042915}, {'project': 'fr.wikipedia', 'access-site': 'all-sites', 'granularity': 'daily', 'timestamp': '2010040700', 'count': 15335772}, {'project': 'fr.wikipedia', 'access-site': 'all-sites', 'granularity': 'daily', 'timestamp': '2010040800', 'count': 15424762}, {'project': 'fr.wikipedia', 'access-site': 'all-sites', 'granularity': 'daily', 'timestamp': '2010040900', 'count': 14865106}, {'project': 'fr.wikipedia', 'access-site': 'all-sites', 'granularity': 'daily', 'timestamp': '2010041000', 'count': 13679631}, {'project': 'fr.wikipedia', 'access-site': 'all-sites', 'granularity': 'daily', 'timestamp': '2010041100', 'count': 14451249}, {'project': 'fr.wikipedia', 'access-site': 'all-sites', 'granularity': 'daily', 'timestamp': '2010041200', 'count': 14590485}, {'project': 'fr.wikipedia', 'access-site': 'all-sites', 'granularity': 'daily', 'timestamp': '2010041300', 'count': 14621129}, {'project': 'fr.wikipedia', 'access-site': 'all-sites', 'granularity': 'daily', 'timestamp': '2010041400', 'count': 14504850}, {'project': 'fr.wikipedia', 'access-site': 'all-sites', 'granularity': 'daily', 'timestamp': '2010041500', 'count': 14564569}, {'project': 'fr.wikipedia', 'access-site': 'all-sites', 'granularity': 'daily', 'timestamp': '2010041600', 'count': 14945451}, {'project': 'fr.wikipedia', 'access-site': 'all-sites', 'granularity': 'daily', 'timestamp': '2010041700', 'count': 14520875}, {'project': 'fr.wikipedia', 'access-site': 'all-sites', 'granularity': 'daily', 'timestamp': '2010041800', 'count': 13999256}, {'project': 'fr.wikipedia', 'access-site': 'all-sites', 'granularity': 'daily', 'timestamp': '2010041900', 'count': 14398829}, {'project': 'fr.wikipedia', 'access-site': 'all-sites', 'granularity': 'daily', 'timestamp': '2010042000', 'count': 14280531}, {'project': 'fr.wikipedia', 'access-site': 'all-sites', 'granularity': 'daily', 'timestamp': '2010042100', 'count': 14348989}, {'project': 'fr.wikipedia', 'access-site': 'all-sites', 'granularity': 'daily', 'timestamp': '2010042200', 'count': 14301263}, {'project': 'fr.wikipedia', 'access-site': 'all-sites', 'granularity': 'daily', 'timestamp': '2010042300', 'count': 15029224}, {'project': 'fr.wikipedia', 'access-site': 'all-sites', 'granularity': 'daily', 'timestamp': '2010042400', 'count': 14637227}, {'project': 'fr.wikipedia', 'access-site': 'all-sites', 'granularity': 'daily', 'timestamp': '2010042500', 'count': 14751154}, {'project': 'fr.wikipedia', 'access-site': 'all-sites', 'granularity': 'daily', 'timestamp': '2010042600', 'count': 14471903}, {'project': 'fr.wikipedia', 'access-site': 'all-sites', 'granularity': 'daily', 'timestamp': '2010042700', 'count': 13994478}, {'project': 'fr.wikipedia', 'access-site': 'all-sites', 'granularity': 'daily', 'timestamp': '2010042800', 'count': 15116122}, {'project': 'fr.wikipedia', 'access-site': 'all-sites', 'granularity': 'daily', 'timestamp': '2010042900', 'count': 15007362}, {'project': 'fr.wikipedia', 'access-site': 'all-sites', 'granularity': 'daily', 'timestamp': '2010043000', 'count': 15762100}, {'project': 'fr.wikipedia', 'access-site': 'all-sites', 'granularity': 'daily', 'timestamp': '2010050100', 'count': 16961848}, {'project': 'fr.wikipedia', 'access-site': 'all-sites', 'granularity': 'daily', 'timestamp': '2010050200', 'count': 16734340}, {'project': 'fr.wikipedia', 'access-site': 'all-sites', 'granularity': 'daily', 'timestamp': '2010050300', 'count': 15434076}, {'project': 'fr.wikipedia', 'access-site': 'all-sites', 'granularity': 'daily', 'timestamp': '2010050400', 'count': 15232279}, {'project': 'fr.wikipedia', 'access-site': 'all-sites', 'granularity': 'daily', 'timestamp': '2010050500', 'count': 15647909}, {'project': 'fr.wikipedia', 'access-site': 'all-sites', 'granularity': 'daily', 'timestamp': '2010050600', 'count': 14453034}, {'project': 'fr.wikipedia', 'access-site': 'all-sites', 'granularity': 'daily', 'timestamp': '2010050700', 'count': 14637202}, {'project': 'fr.wikipedia', 'access-site': 'all-sites', 'granularity': 'daily', 'timestamp': '2010050800', 'count': 15620721}, {'project': 'fr.wikipedia', 'access-site': 'all-sites', 'granularity': 'daily', 'timestamp': '2010050900', 'count': 16901279}, {'project': 'fr.wikipedia', 'access-site': 'all-sites', 'granularity': 'daily', 'timestamp': '2010051000', 'count': 15102462}, {'project': 'fr.wikipedia', 'access-site': 'all-sites', 'granularity': 'daily', 'timestamp': '2010051100', 'count': 14616763}, {'project': 'fr.wikipedia', 'access-site': 'all-sites', 'granularity': 'daily', 'timestamp': '2010051200', 'count': 13647732}, {'project': 'fr.wikipedia', 'access-site': 'all-sites', 'granularity': 'daily', 'timestamp': '2010051300', 'count': 11762249}, {'project': 'fr.wikipedia', 'access-site': 'all-sites', 'granularity': 'daily', 'timestamp': '2010051400', 'count': 13459438}, {'project': 'fr.wikipedia', 'access-site': 'all-sites', 'granularity': 'daily', 'timestamp': '2010051500', 'count': 15068745}, {'project': 'fr.wikipedia', 'access-site': 'all-sites', 'granularity': 'daily', 'timestamp': '2010051600', 'count': 15153095}, {'project': 'fr.wikipedia', 'access-site': 'all-sites', 'granularity': 'daily', 'timestamp': '2010051700', 'count': 14762482}, {'project': 'fr.wikipedia', 'access-site': 'all-sites', 'granularity': 'daily', 'timestamp': '2010051800', 'count': 11652378}, {'project': 'fr.wikipedia', 'access-site': 'all-sites', 'granularity': 'daily', 'timestamp': '2010051900', 'count': 11914048}, {'project': 'fr.wikipedia', 'access-site': 'all-sites', 'granularity': 'daily', 'timestamp': '2010052000', 'count': 14496979}, {'project': 'fr.wikipedia', 'access-site': 'all-sites', 'granularity': 'daily', 'timestamp': '2010052100', 'count': 14641360}, {'project': 'fr.wikipedia', 'access-site': 'all-sites', 'granularity': 'daily', 'timestamp': '2010052200', 'count': 14058605}, {'project': 'fr.wikipedia', 'access-site': 'all-sites', 'granularity': 'daily', 'timestamp': '2010052300', 'count': 13338851}, {'project': 'fr.wikipedia', 'access-site': 'all-sites', 'granularity': 'daily', 'timestamp': '2010052400', 'count': 14131241}, {'project': 'fr.wikipedia', 'access-site': 'all-sites', 'granularity': 'daily', 'timestamp': '2010052500', 'count': 14193480}, {'project': 'fr.wikipedia', 'access-site': 'all-sites', 'granularity': 'daily', 'timestamp': '2010052600', 'count': 15711226}, {'project': 'fr.wikipedia', 'access-site': 'all-sites', 'granularity': 'daily', 'timestamp': '2010052700', 'count': 14267465}, {'project': 'fr.wikipedia', 'access-site': 'all-sites', 'granularity': 'daily', 'timestamp': '2010052800', 'count': 12231484}, {'project': 'fr.wikipedia', 'access-site': 'all-sites', 'granularity': 'daily', 'timestamp': '2010052900', 'count': 14997837}, {'project': 'fr.wikipedia', 'access-site': 'all-sites', 'granularity': 'daily', 'timestamp': '2010053000', 'count': 15768652}, {'project': 'fr.wikipedia', 'access-site': 'all-sites', 'granularity': 'daily', 'timestamp': '2010053100', 'count': 15634000}, {'project': 'fr.wikipedia', 'access-site': 'all-sites', 'granularity': 'daily', 'timestamp': '2010060100', 'count': 14421392}, {'project': 'fr.wikipedia', 'access-site': 'all-sites', 'granularity': 'daily', 'timestamp': '2010060200', 'count': 15809053}, {'project': 'fr.wikipedia', 'access-site': 'all-sites', 'granularity': 'daily', 'timestamp': '2010060300', 'count': 15022250}, {'project': 'fr.wikipedia', 'access-site': 'all-sites', 'granularity': 'daily', 'timestamp': '2010060400', 'count': 15215536}, {'project': 'fr.wikipedia', 'access-site': 'all-sites', 'granularity': 'daily', 'timestamp': '2010060500', 'count': 14807777}, {'project': 'fr.wikipedia', 'access-site': 'all-sites', 'granularity': 'daily', 'timestamp': '2010060600', 'count': 15382980}, {'project': 'fr.wikipedia', 'access-site': 'all-sites', 'granularity': 'daily', 'timestamp': '2010060700', 'count': 14767055}, {'project': 'fr.wikipedia', 'access-site': 'all-sites', 'granularity': 'daily', 'timestamp': '2010060800', 'count': 13583288}, {'project': 'fr.wikipedia', 'access-site': 'all-sites', 'granularity': 'daily', 'timestamp': '2010060900', 'count': 14424960}, {'project': 'fr.wikipedia', 'access-site': 'all-sites', 'granularity': 'daily', 'timestamp': '2010061000', 'count': 12930877}, {'project': 'fr.wikipedia', 'access-site': 'all-sites', 'granularity': 'daily', 'timestamp': '2010061100', 'count': 7442869}, {'project': 'fr.wikipedia', 'access-site': 'all-sites', 'granularity': 'daily', 'timestamp': '2010061200', 'count': 2697377}, {'project': 'fr.wikipedia', 'access-site': 'all-sites', 'granularity': 'daily', 'timestamp': '2010061300', 'count': 2267055}, {'project': 'fr.wikipedia', 'access-site': 'all-sites', 'granularity': 'daily', 'timestamp': '2010061400', 'count': 2873264}, {'project': 'fr.wikipedia', 'access-site': 'all-sites', 'granularity': 'daily', 'timestamp': '2010061500', 'count': 7255327}, {'project': 'fr.wikipedia', 'access-site': 'all-sites', 'granularity': 'daily', 'timestamp': '2010061600', 'count': 8076473}, {'project': 'fr.wikipedia', 'access-site': 'all-sites', 'granularity': 'daily', 'timestamp': '2010061700', 'count': 12341927}, {'project': 'fr.wikipedia', 'access-site': 'all-sites', 'granularity': 'daily', 'timestamp': '2010061800', 'count': 13145359}, {'project': 'fr.wikipedia', 'access-site': 'all-sites', 'granularity': 'daily', 'timestamp': '2010061900', 'count': 13645926}, {'project': 'fr.wikipedia', 'access-site': 'all-sites', 'granularity': 'daily', 'timestamp': '2010062000', 'count': 13512202}, {'project': 'fr.wikipedia', 'access-site': 'all-sites', 'granularity': 'daily', 'timestamp': '2010062100', 'count': 12974755}, {'project': 'fr.wikipedia', 'access-site': 'all-sites', 'granularity': 'daily', 'timestamp': '2010062200', 'count': 12039608}, {'project': 'fr.wikipedia', 'access-site': 'all-sites', 'granularity': 'daily', 'timestamp': '2010062300', 'count': 13070517}, {'project': 'fr.wikipedia', 'access-site': 'all-sites', 'granularity': 'daily', 'timestamp': '2010062400', 'count': 10626933}, {'project': 'fr.wikipedia', 'access-site': 'all-sites', 'granularity': 'daily', 'timestamp': '2010062500', 'count': 10149398}, {'project': 'fr.wikipedia', 'access-site': 'all-sites', 'granularity': 'daily', 'timestamp': '2010062600', 'count': 9885505}, {'project': 'fr.wikipedia', 'access-site': 'all-sites', 'granularity': 'daily', 'timestamp': '2010062700', 'count': 2485083}, {'project': 'fr.wikipedia', 'access-site': 'all-sites', 'granularity': 'daily', 'timestamp': '2010062800', 'count': 9446167}, {'project': 'fr.wikipedia', 'access-site': 'all-sites', 'granularity': 'daily', 'timestamp': '2010062900', 'count': 11549164}, {'project': 'fr.wikipedia', 'access-site': 'all-sites', 'granularity': 'daily', 'timestamp': '2010063000', 'count': 11794638}, {'project': 'fr.wikipedia', 'access-site': 'all-sites', 'granularity': 'daily', 'timestamp': '2010070100', 'count': 12310727}, {'project': 'fr.wikipedia', 'access-site': 'all-sites', 'granularity': 'daily', 'timestamp': '2010070200', 'count': 11860046}, {'project': 'fr.wikipedia', 'access-site': 'all-sites', 'granularity': 'daily', 'timestamp': '2010070300', 'count': 10170267}, {'project': 'fr.wikipedia', 'access-site': 'all-sites', 'granularity': 'daily', 'timestamp': '2010070400', 'count': 10037613}, {'project': 'fr.wikipedia', 'access-site': 'all-sites', 'granularity': 'daily', 'timestamp': '2010070500', 'count': 5267542}, {'project': 'fr.wikipedia', 'access-site': 'all-sites', 'granularity': 'daily', 'timestamp': '2010070600', 'count': 9638924}, {'project': 'fr.wikipedia', 'access-site': 'all-sites', 'granularity': 'daily', 'timestamp': '2010070700', 'count': 2904023}, {'project': 'fr.wikipedia', 'access-site': 'all-sites', 'granularity': 'daily', 'timestamp': '2010071000', 'count': 7842317}, {'project': 'fr.wikipedia', 'access-site': 'all-sites', 'granularity': 'daily', 'timestamp': '2010071100', 'count': 9487695}, {'project': 'fr.wikipedia', 'access-site': 'all-sites', 'granularity': 'daily', 'timestamp': '2010071200', 'count': 9538116}, {'project': 'fr.wikipedia', 'access-site': 'all-sites', 'granularity': 'daily', 'timestamp': '2010071300', 'count': 9401015}, {'project': 'fr.wikipedia', 'access-site': 'all-sites', 'granularity': 'daily', 'timestamp': '2010071400', 'count': 9704226}, {'project': 'fr.wikipedia', 'access-site': 'all-sites', 'granularity': 'daily', 'timestamp': '2010071500', 'count': 10092973}, {'project': 'fr.wikipedia', 'access-site': 'all-sites', 'granularity': 'daily', 'timestamp': '2010071600', 'count': 10294375}, {'project': 'fr.wikipedia', 'access-site': 'all-sites', 'granularity': 'daily', 'timestamp': '2010071700', 'count': 10395862}, {'project': 'fr.wikipedia', 'access-site': 'all-sites', 'granularity': 'daily', 'timestamp': '2010071800', 'count': 10209862}, {'project': 'fr.wikipedia', 'access-site': 'all-sites', 'granularity': 'daily', 'timestamp': '2010071900', 'count': 10047775}, {'project': 'fr.wikipedia', 'access-site': 'all-sites', 'granularity': 'daily', 'timestamp': '2010072000', 'count': 10055479}, {'project': 'fr.wikipedia', 'access-site': 'all-sites', 'granularity': 'daily', 'timestamp': '2010072100', 'count': 10149097}, {'project': 'fr.wikipedia', 'access-site': 'all-sites', 'granularity': 'daily', 'timestamp': '2010072200', 'count': 14001184}, {'project': 'fr.wikipedia', 'access-site': 'all-sites', 'granularity': 'daily', 'timestamp': '2010072300', 'count': 15605162}, {'project': 'fr.wikipedia', 'access-site': 'all-sites', 'granularity': 'daily', 'timestamp': '2010072400', 'count': 13735062}, {'project': 'fr.wikipedia', 'access-site': 'all-sites', 'granularity': 'daily', 'timestamp': '2010072500', 'count': 14945651}, {'project': 'fr.wikipedia', 'access-site': 'all-sites', 'granularity': 'daily', 'timestamp': '2010072600', 'count': 17261463}, {'project': 'fr.wikipedia', 'access-site': 'all-sites', 'granularity': 'daily', 'timestamp': '2010072700', 'count': 16482758}, {'project': 'fr.wikipedia', 'access-site': 'all-sites', 'granularity': 'daily', 'timestamp': '2010072800', 'count': 16312159}, {'project': 'fr.wikipedia', 'access-site': 'all-sites', 'granularity': 'daily', 'timestamp': '2010072900', 'count': 16794066}, {'project': 'fr.wikipedia', 'access-site': 'all-sites', 'granularity': 'daily', 'timestamp': '2010073000', 'count': 15438622}, {'project': 'fr.wikipedia', 'access-site': 'all-sites', 'granularity': 'daily', 'timestamp': '2010073100', 'count': 13595939}, {'project': 'fr.wikipedia', 'access-site': 'all-sites', 'granularity': 'daily', 'timestamp': '2010080100', 'count': 14817471}, {'project': 'fr.wikipedia', 'access-site': 'all-sites', 'granularity': 'daily', 'timestamp': '2010080200', 'count': 16501970}, {'project': 'fr.wikipedia', 'access-site': 'all-sites', 'granularity': 'daily', 'timestamp': '2010080300', 'count': 16310010}, {'project': 'fr.wikipedia', 'access-site': 'all-sites', 'granularity': 'daily', 'timestamp': '2010080400', 'count': 16207602}, {'project': 'fr.wikipedia', 'access-site': 'all-sites', 'granularity': 'daily', 'timestamp': '2010080500', 'count': 16012227}, {'project': 'fr.wikipedia', 'access-site': 'all-sites', 'granularity': 'daily', 'timestamp': '2010080600', 'count': 15032666}, {'project': 'fr.wikipedia', 'access-site': 'all-sites', 'granularity': 'daily', 'timestamp': '2010080700', 'count': 13553017}, {'project': 'fr.wikipedia', 'access-site': 'all-sites', 'granularity': 'daily', 'timestamp': '2010080800', 'count': 14519925}, {'project': 'fr.wikipedia', 'access-site': 'all-sites', 'granularity': 'daily', 'timestamp': '2010080900', 'count': 16253428}, {'project': 'fr.wikipedia', 'access-site': 'all-sites', 'granularity': 'daily', 'timestamp': '2010081000', 'count': 16373706}, {'project': 'fr.wikipedia', 'access-site': 'all-sites', 'granularity': 'daily', 'timestamp': '2010081100', 'count': 16335061}, {'project': 'fr.wikipedia', 'access-site': 'all-sites', 'granularity': 'daily', 'timestamp': '2010081200', 'count': 16410932}, {'project': 'fr.wikipedia', 'access-site': 'all-sites', 'granularity': 'daily', 'timestamp': '2010081300', 'count': 15662878}, {'project': 'fr.wikipedia', 'access-site': 'all-sites', 'granularity': 'daily', 'timestamp': '2010081400', 'count': 14218357}, {'project': 'fr.wikipedia', 'access-site': 'all-sites', 'granularity': 'daily', 'timestamp': '2010081500', 'count': 15843799}, {'project': 'fr.wikipedia', 'access-site': 'all-sites', 'granularity': 'daily', 'timestamp': '2010081600', 'count': 17440054}, {'project': 'fr.wikipedia', 'access-site': 'all-sites', 'granularity': 'daily', 'timestamp': '2010081700', 'count': 17162046}, {'project': 'fr.wikipedia', 'access-site': 'all-sites', 'granularity': 'daily', 'timestamp': '2010081800', 'count': 17028655}, {'project': 'fr.wikipedia', 'access-site': 'all-sites', 'granularity': 'daily', 'timestamp': '2010081900', 'count': 16852028}, {'project': 'fr.wikipedia', 'access-site': 'all-sites', 'granularity': 'daily', 'timestamp': '2010082000', 'count': 16586580}, {'project': 'fr.wikipedia', 'access-site': 'all-sites', 'granularity': 'daily', 'timestamp': '2010082100', 'count': 14724799}, {'project': 'fr.wikipedia', 'access-site': 'all-sites', 'granularity': 'daily', 'timestamp': '2010082200', 'count': 16198327}, {'project': 'fr.wikipedia', 'access-site': 'all-sites', 'granularity': 'daily', 'timestamp': '2010082300', 'count': 18920047}, {'project': 'fr.wikipedia', 'access-site': 'all-sites', 'granularity': 'daily', 'timestamp': '2010082400', 'count': 17983449}, {'project': 'fr.wikipedia', 'access-site': 'all-sites', 'granularity': 'daily', 'timestamp': '2010082500', 'count': 18261358}, {'project': 'fr.wikipedia', 'access-site': 'all-sites', 'granularity': 'daily', 'timestamp': '2010082600', 'count': 18134566}, {'project': 'fr.wikipedia', 'access-site': 'all-sites', 'granularity': 'daily', 'timestamp': '2010082700', 'count': 17364563}, {'project': 'fr.wikipedia', 'access-site': 'all-sites', 'granularity': 'daily', 'timestamp': '2010082800', 'count': 15349499}, {'project': 'fr.wikipedia', 'access-site': 'all-sites', 'granularity': 'daily', 'timestamp': '2010082900', 'count': 16644766}, {'project': 'fr.wikipedia', 'access-site': 'all-sites', 'granularity': 'daily', 'timestamp': '2010083000', 'count': 18989846}, {'project': 'fr.wikipedia', 'access-site': 'all-sites', 'granularity': 'daily', 'timestamp': '2010083100', 'count': 19058460}, {'project': 'fr.wikipedia', 'access-site': 'all-sites', 'granularity': 'daily', 'timestamp': '2010090100', 'count': 17806586}, {'project': 'fr.wikipedia', 'access-site': 'all-sites', 'granularity': 'daily', 'timestamp': '2010090200', 'count': 16951850}, {'project': 'fr.wikipedia', 'access-site': 'all-sites', 'granularity': 'daily', 'timestamp': '2010090300', 'count': 16928152}, {'project': 'fr.wikipedia', 'access-site': 'all-sites', 'granularity': 'daily', 'timestamp': '2010090400', 'count': 17171077}, {'project': 'fr.wikipedia', 'access-site': 'all-sites', 'granularity': 'daily', 'timestamp': '2010090500', 'count': 18371288}, {'project': 'fr.wikipedia', 'access-site': 'all-sites', 'granularity': 'daily', 'timestamp': '2010090600', 'count': 19263860}, {'project': 'fr.wikipedia', 'access-site': 'all-sites', 'granularity': 'daily', 'timestamp': '2010090700', 'count': 20349422}, {'project': 'fr.wikipedia', 'access-site': 'all-sites', 'granularity': 'daily', 'timestamp': '2010090800', 'count': 20360107}, {'project': 'fr.wikipedia', 'access-site': 'all-sites', 'granularity': 'daily', 'timestamp': '2010090900', 'count': 19039989}, {'project': 'fr.wikipedia', 'access-site': 'all-sites', 'granularity': 'daily', 'timestamp': '2010091000', 'count': 17376367}, {'project': 'fr.wikipedia', 'access-site': 'all-sites', 'granularity': 'daily', 'timestamp': '2010091100', 'count': 16558267}, {'project': 'fr.wikipedia', 'access-site': 'all-sites', 'granularity': 'daily', 'timestamp': '2010091200', 'count': 20038859}, {'project': 'fr.wikipedia', 'access-site': 'all-sites', 'granularity': 'daily', 'timestamp': '2010091300', 'count': 20019503}, {'project': 'fr.wikipedia', 'access-site': 'all-sites', 'granularity': 'daily', 'timestamp': '2010091400', 'count': 19370296}, {'project': 'fr.wikipedia', 'access-site': 'all-sites', 'granularity': 'daily', 'timestamp': '2010091500', 'count': 20051688}, {'project': 'fr.wikipedia', 'access-site': 'all-sites', 'granularity': 'daily', 'timestamp': '2010091600', 'count': 18750341}, {'project': 'fr.wikipedia', 'access-site': 'all-sites', 'granularity': 'daily', 'timestamp': '2010091700', 'count': 17387498}, {'project': 'fr.wikipedia', 'access-site': 'all-sites', 'granularity': 'daily', 'timestamp': '2010091800', 'count': 17280020}, {'project': 'fr.wikipedia', 'access-site': 'all-sites', 'granularity': 'daily', 'timestamp': '2010091900', 'count': 19427346}, {'project': 'fr.wikipedia', 'access-site': 'all-sites', 'granularity': 'daily', 'timestamp': '2010092000', 'count': 19626689}, {'project': 'fr.wikipedia', 'access-site': 'all-sites', 'granularity': 'daily', 'timestamp': '2010092100', 'count': 19442856}, {'project': 'fr.wikipedia', 'access-site': 'all-sites', 'granularity': 'daily', 'timestamp': '2010092200', 'count': 20392920}, {'project': 'fr.wikipedia', 'access-site': 'all-sites', 'granularity': 'daily', 'timestamp': '2010092300', 'count': 20278968}, {'project': 'fr.wikipedia', 'access-site': 'all-sites', 'granularity': 'daily', 'timestamp': '2010092400', 'count': 18585693}, {'project': 'fr.wikipedia', 'access-site': 'all-sites', 'granularity': 'daily', 'timestamp': '2010092500', 'count': 18197303}, {'project': 'fr.wikipedia', 'access-site': 'all-sites', 'granularity': 'daily', 'timestamp': '2010092600', 'count': 20625913}, {'project': 'fr.wikipedia', 'access-site': 'all-sites', 'granularity': 'daily', 'timestamp': '2010092700', 'count': 20645959}, {'project': 'fr.wikipedia', 'access-site': 'all-sites', 'granularity': 'daily', 'timestamp': '2010092800', 'count': 28421628}, {'project': 'fr.wikipedia', 'access-site': 'all-sites', 'granularity': 'daily', 'timestamp': '2010092900', 'count': 32178583}, {'project': 'fr.wikipedia', 'access-site': 'all-sites', 'granularity': 'daily', 'timestamp': '2010093000', 'count': 33448912}, {'project': 'fr.wikipedia', 'access-site': 'all-sites', 'granularity': 'daily', 'timestamp': '2010100100', 'count': 30251396}, {'project': 'fr.wikipedia', 'access-site': 'all-sites', 'granularity': 'daily', 'timestamp': '2010100200', 'count': 29729085}, {'project': 'fr.wikipedia', 'access-site': 'all-sites', 'granularity': 'daily', 'timestamp': '2010100300', 'count': 35493278}, {'project': 'fr.wikipedia', 'access-site': 'all-sites', 'granularity': 'daily', 'timestamp': '2010100400', 'count': 36735243}, {'project': 'fr.wikipedia', 'access-site': 'all-sites', 'granularity': 'daily', 'timestamp': '2010100500', 'count': 37067172}, {'project': 'fr.wikipedia', 'access-site': 'all-sites', 'granularity': 'daily', 'timestamp': '2010100600', 'count': 38699387}, {'project': 'fr.wikipedia', 'access-site': 'all-sites', 'granularity': 'daily', 'timestamp': '2010100700', 'count': 36217860}, {'project': 'fr.wikipedia', 'access-site': 'all-sites', 'granularity': 'daily', 'timestamp': '2010100800', 'count': 32764659}, {'project': 'fr.wikipedia', 'access-site': 'all-sites', 'granularity': 'daily', 'timestamp': '2010100900', 'count': 31695857}, {'project': 'fr.wikipedia', 'access-site': 'all-sites', 'granularity': 'daily', 'timestamp': '2010101000', 'count': 38117466}, {'project': 'fr.wikipedia', 'access-site': 'all-sites', 'granularity': 'daily', 'timestamp': '2010101100', 'count': 38176032}, {'project': 'fr.wikipedia', 'access-site': 'all-sites', 'granularity': 'daily', 'timestamp': '2010101200', 'count': 37814664}, {'project': 'fr.wikipedia', 'access-site': 'all-sites', 'granularity': 'daily', 'timestamp': '2010101300', 'count': 38690045}, {'project': 'fr.wikipedia', 'access-site': 'all-sites', 'granularity': 'daily', 'timestamp': '2010101400', 'count': 36212213}, {'project': 'fr.wikipedia', 'access-site': 'all-sites', 'granularity': 'daily', 'timestamp': '2010101500', 'count': 33346820}, {'project': 'fr.wikipedia', 'access-site': 'all-sites', 'granularity': 'daily', 'timestamp': '2010101600', 'count': 32902466}, {'project': 'fr.wikipedia', 'access-site': 'all-sites', 'granularity': 'daily', 'timestamp': '2010101700', 'count': 38285704}, {'project': 'fr.wikipedia', 'access-site': 'all-sites', 'granularity': 'daily', 'timestamp': '2010101800', 'count': 38167373}, {'project': 'fr.wikipedia', 'access-site': 'all-sites', 'granularity': 'daily', 'timestamp': '2010101900', 'count': 39655659}, {'project': 'fr.wikipedia', 'access-site': 'all-sites', 'granularity': 'daily', 'timestamp': '2010102000', 'count': 39477202}, {'project': 'fr.wikipedia', 'access-site': 'all-sites', 'granularity': 'daily', 'timestamp': '2010102100', 'count': 37358105}, {'project': 'fr.wikipedia', 'access-site': 'all-sites', 'granularity': 'daily', 'timestamp': '2010102200', 'count': 32737100}, {'project': 'fr.wikipedia', 'access-site': 'all-sites', 'granularity': 'daily', 'timestamp': '2010102300', 'count': 17111941}, {'project': 'fr.wikipedia', 'access-site': 'all-sites', 'granularity': 'daily', 'timestamp': '2010102400', 'count': 19528931}, {'project': 'fr.wikipedia', 'access-site': 'all-sites', 'granularity': 'daily', 'timestamp': '2010102500', 'count': 20873442}, {'project': 'fr.wikipedia', 'access-site': 'all-sites', 'granularity': 'daily', 'timestamp': '2010102600', 'count': 20168636}, {'project': 'fr.wikipedia', 'access-site': 'all-sites', 'granularity': 'daily', 'timestamp': '2010102700', 'count': 20044527}, {'project': 'fr.wikipedia', 'access-site': 'all-sites', 'granularity': 'daily', 'timestamp': '2010102800', 'count': 19492390}, {'project': 'fr.wikipedia', 'access-site': 'all-sites', 'granularity': 'daily', 'timestamp': '2010102900', 'count': 18664799}, {'project': 'fr.wikipedia', 'access-site': 'all-sites', 'granularity': 'daily', 'timestamp': '2010103000', 'count': 17295300}, {'project': 'fr.wikipedia', 'access-site': 'all-sites', 'granularity': 'daily', 'timestamp': '2010103100', 'count': 20154728}, {'project': 'fr.wikipedia', 'access-site': 'all-sites', 'granularity': 'daily', 'timestamp': '2010110100', 'count': 22433005}, {'project': 'fr.wikipedia', 'access-site': 'all-sites', 'granularity': 'daily', 'timestamp': '2010110200', 'count': 22340826}, {'project': 'fr.wikipedia', 'access-site': 'all-sites', 'granularity': 'daily', 'timestamp': '2010110300', 'count': 22480981}, {'project': 'fr.wikipedia', 'access-site': 'all-sites', 'granularity': 'daily', 'timestamp': '2010110400', 'count': 20816543}, {'project': 'fr.wikipedia', 'access-site': 'all-sites', 'granularity': 'daily', 'timestamp': '2010110500', 'count': 19616766}, {'project': 'fr.wikipedia', 'access-site': 'all-sites', 'granularity': 'daily', 'timestamp': '2010110600', 'count': 19569087}, {'project': 'fr.wikipedia', 'access-site': 'all-sites', 'granularity': 'daily', 'timestamp': '2010110700', 'count': 23170089}, {'project': 'fr.wikipedia', 'access-site': 'all-sites', 'granularity': 'daily', 'timestamp': '2010110800', 'count': 21980970}, {'project': 'fr.wikipedia', 'access-site': 'all-sites', 'granularity': 'daily', 'timestamp': '2010110900', 'count': 20704863}, {'project': 'fr.wikipedia', 'access-site': 'all-sites', 'granularity': 'daily', 'timestamp': '2010111000', 'count': 19652943}, {'project': 'fr.wikipedia', 'access-site': 'all-sites', 'granularity': 'daily', 'timestamp': '2010111100', 'count': 22447826}, {'project': 'fr.wikipedia', 'access-site': 'all-sites', 'granularity': 'daily', 'timestamp': '2010111200', 'count': 19358217}, {'project': 'fr.wikipedia', 'access-site': 'all-sites', 'granularity': 'daily', 'timestamp': '2010111300', 'count': 18979016}, {'project': 'fr.wikipedia', 'access-site': 'all-sites', 'granularity': 'daily', 'timestamp': '2010111400', 'count': 19916435}, {'project': 'fr.wikipedia', 'access-site': 'all-sites', 'granularity': 'daily', 'timestamp': '2010111500', 'count': 19843580}, {'project': 'fr.wikipedia', 'access-site': 'all-sites', 'granularity': 'daily', 'timestamp': '2010111600', 'count': 18995703}, {'project': 'fr.wikipedia', 'access-site': 'all-sites', 'granularity': 'daily', 'timestamp': '2010111700', 'count': 20688082}, {'project': 'fr.wikipedia', 'access-site': 'all-sites', 'granularity': 'daily', 'timestamp': '2010111800', 'count': 19770503}, {'project': 'fr.wikipedia', 'access-site': 'all-sites', 'granularity': 'daily', 'timestamp': '2010111900', 'count': 18751247}, {'project': 'fr.wikipedia', 'access-site': 'all-sites', 'granularity': 'daily', 'timestamp': '2010112000', 'count': 18522770}, {'project': 'fr.wikipedia', 'access-site': 'all-sites', 'granularity': 'daily', 'timestamp': '2010112100', 'count': 22256943}, {'project': 'fr.wikipedia', 'access-site': 'all-sites', 'granularity': 'daily', 'timestamp': '2010112200', 'count': 22196330}, {'project': 'fr.wikipedia', 'access-site': 'all-sites', 'granularity': 'daily', 'timestamp': '2010112300', 'count': 21609667}, {'project': 'fr.wikipedia', 'access-site': 'all-sites', 'granularity': 'daily', 'timestamp': '2010112400', 'count': 22121101}, {'project': 'fr.wikipedia', 'access-site': 'all-sites', 'granularity': 'daily', 'timestamp': '2010112500', 'count': 20826623}, {'project': 'fr.wikipedia', 'access-site': 'all-sites', 'granularity': 'daily', 'timestamp': '2010112600', 'count': 18818485}, {'project': 'fr.wikipedia', 'access-site': 'all-sites', 'granularity': 'daily', 'timestamp': '2010112700', 'count': 18547453}, {'project': 'fr.wikipedia', 'access-site': 'all-sites', 'granularity': 'daily', 'timestamp': '2010112800', 'count': 22409818}, {'project': 'fr.wikipedia', 'access-site': 'all-sites', 'granularity': 'daily', 'timestamp': '2010112900', 'count': 22761098}, {'project': 'fr.wikipedia', 'access-site': 'all-sites', 'granularity': 'daily', 'timestamp': '2010113000', 'count': 9077454}, {'project': 'fr.wikipedia', 'access-site': 'all-sites', 'granularity': 'daily', 'timestamp': '2010120100', 'count': 21958664}, {'project': 'fr.wikipedia', 'access-site': 'all-sites', 'granularity': 'daily', 'timestamp': '2010120200', 'count': 20259770}, {'project': 'fr.wikipedia', 'access-site': 'all-sites', 'granularity': 'daily', 'timestamp': '2010120300', 'count': 18902241}, {'project': 'fr.wikipedia', 'access-site': 'all-sites', 'granularity': 'daily', 'timestamp': '2010120400', 'count': 18368587}, {'project': 'fr.wikipedia', 'access-site': 'all-sites', 'granularity': 'daily', 'timestamp': '2010120500', 'count': 22103171}, {'project': 'fr.wikipedia', 'access-site': 'all-sites', 'granularity': 'daily', 'timestamp': '2010120600', 'count': 21677471}, {'project': 'fr.wikipedia', 'access-site': 'all-sites', 'granularity': 'daily', 'timestamp': '2010120700', 'count': 21230371}, {'project': 'fr.wikipedia', 'access-site': 'all-sites', 'granularity': 'daily', 'timestamp': '2010120800', 'count': 21627155}, {'project': 'fr.wikipedia', 'access-site': 'all-sites', 'granularity': 'daily', 'timestamp': '2010120900', 'count': 21221520}, {'project': 'fr.wikipedia', 'access-site': 'all-sites', 'granularity': 'daily', 'timestamp': '2010121000', 'count': 19637115}, {'project': 'fr.wikipedia', 'access-site': 'all-sites', 'granularity': 'daily', 'timestamp': '2010121100', 'count': 18716299}, {'project': 'fr.wikipedia', 'access-site': 'all-sites', 'granularity': 'daily', 'timestamp': '2010121200', 'count': 21688489}, {'project': 'fr.wikipedia', 'access-site': 'all-sites', 'granularity': 'daily', 'timestamp': '2010121300', 'count': 21596729}, {'project': 'fr.wikipedia', 'access-site': 'all-sites', 'granularity': 'daily', 'timestamp': '2010121400', 'count': 21395166}, {'project': 'fr.wikipedia', 'access-site': 'all-sites', 'granularity': 'daily', 'timestamp': '2010121500', 'count': 21783419}, {'project': 'fr.wikipedia', 'access-site': 'all-sites', 'granularity': 'daily', 'timestamp': '2010121600', 'count': 20523540}, {'project': 'fr.wikipedia', 'access-site': 'all-sites', 'granularity': 'daily', 'timestamp': '2010121700', 'count': 18620415}, {'project': 'fr.wikipedia', 'access-site': 'all-sites', 'granularity': 'daily', 'timestamp': '2010121800', 'count': 17273879}, {'project': 'fr.wikipedia', 'access-site': 'all-sites', 'granularity': 'daily', 'timestamp': '2010121900', 'count': 19710587}, {'project': 'fr.wikipedia', 'access-site': 'all-sites', 'granularity': 'daily', 'timestamp': '2010122000', 'count': 20733759}, {'project': 'fr.wikipedia', 'access-site': 'all-sites', 'granularity': 'daily', 'timestamp': '2010122100', 'count': 20273088}, {'project': 'fr.wikipedia', 'access-site': 'all-sites', 'granularity': 'daily', 'timestamp': '2010122200', 'count': 19518231}, {'project': 'fr.wikipedia', 'access-site': 'all-sites', 'granularity': 'daily', 'timestamp': '2010122300', 'count': 19271825}, {'project': 'fr.wikipedia', 'access-site': 'all-sites', 'granularity': 'daily', 'timestamp': '2010122400', 'count': 15855178}, {'project': 'fr.wikipedia', 'access-site': 'all-sites', 'granularity': 'daily', 'timestamp': '2010122500', 'count': 14983633}, {'project': 'fr.wikipedia', 'access-site': 'all-sites', 'granularity': 'daily', 'timestamp': '2010122600', 'count': 17668622}, {'project': 'fr.wikipedia', 'access-site': 'all-sites', 'granularity': 'daily', 'timestamp': '2010122700', 'count': 19696239}, {'project': 'fr.wikipedia', 'access-site': 'all-sites', 'granularity': 'daily', 'timestamp': '2010122800', 'count': 20274799}, {'project': 'fr.wikipedia', 'access-site': 'all-sites', 'granularity': 'daily', 'timestamp': '2010122900', 'count': 20909871}, {'project': 'fr.wikipedia', 'access-site': 'all-sites', 'granularity': 'daily', 'timestamp': '2010123000', 'count': 20550410}, {'project': 'fr.wikipedia', 'access-site': 'all-sites', 'granularity': 'daily', 'timestamp': '2010123100', 'count': 16892161}, {'project': 'fr.wikipedia', 'access-site': 'all-sites', 'granularity': 'daily', 'timestamp': '2011010100', 'count': 17945006}]})"
      ]
     },
     "execution_count": 23,
     "metadata": {},
     "output_type": "execute_result"
    }
   ],
   "source": [
    "pageviewapi.legacy_pagecounts('fr.wikipedia', '2010010100', '2011010100', granularity='daily')"
   ]
  },
  {
   "cell_type": "code",
   "execution_count": null,
   "metadata": {},
   "outputs": [],
   "source": []
  },
  {
   "cell_type": "code",
   "execution_count": null,
   "metadata": {},
   "outputs": [],
   "source": []
  }
 ],
 "metadata": {
  "instance_type": "ml.t3.medium",
  "kernelspec": {
   "display_name": "conda_python3",
   "language": "python",
   "name": "conda_python3"
  },
  "language_info": {
   "codemirror_mode": {
    "name": "ipython",
    "version": 3
   },
   "file_extension": ".py",
   "mimetype": "text/x-python",
   "name": "python",
   "nbconvert_exporter": "python",
   "pygments_lexer": "ipython3",
   "version": "3.6.13"
  }
 },
 "nbformat": 4,
 "nbformat_minor": 4
}
