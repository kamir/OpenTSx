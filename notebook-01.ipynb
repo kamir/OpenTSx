{
 "cells": [
  {
   "cell_type": "markdown",
   "metadata": {},
   "source": [
    "# Python based CCloud Producer Demo¶\n",
    "\n",
    "How can I get some Wikipedia pageview data for timeseries analysis using OpenTSx into my Kafka Cluster?\n",
    "https://wikitech.wikimedia.org/wiki/Analytics/AQS/Pageviews\n"
   ]
  },
  {
   "cell_type": "code",
   "execution_count": 6,
   "metadata": {},
   "outputs": [],
   "source": [
    "import sys"
   ]
  },
  {
   "cell_type": "code",
   "execution_count": 12,
   "metadata": {},
   "outputs": [
    {
     "name": "stdout",
     "output_type": "stream",
     "text": [
      "/bin/sh: 1: conda: not found\n"
     ]
    }
   ],
   "source": [
    "!conda update --all -y "
   ]
  },
  {
   "cell_type": "code",
   "execution_count": 13,
   "metadata": {},
   "outputs": [
    {
     "name": "stdout",
     "output_type": "stream",
     "text": [
      "/bin/sh: 1: conda: not found\n"
     ]
    }
   ],
   "source": [
    "!conda install -n python3 -y -c conda-forge spacy"
   ]
  },
  {
   "cell_type": "code",
   "execution_count": 9,
   "metadata": {},
   "outputs": [
    {
     "name": "stdout",
     "output_type": "stream",
     "text": [
      "/bin/sh: 1: pip: not found\n"
     ]
    }
   ],
   "source": [
    "!pip install --no-binary :all: \"confluent-kafka[avro,json,protobuf]\""
   ]
  },
  {
   "cell_type": "code",
   "execution_count": 5,
   "metadata": {},
   "outputs": [
    {
     "name": "stdout",
     "output_type": "stream",
     "text": [
      "/opt/conda/lib/python3.7/site-packages/secretstorage/dhcrypto.py:16: CryptographyDeprecationWarning: int_from_bytes is deprecated, use int.from_bytes instead\n",
      "  from cryptography.utils import int_from_bytes\n",
      "/opt/conda/lib/python3.7/site-packages/secretstorage/util.py:25: CryptographyDeprecationWarning: int_from_bytes is deprecated, use int.from_bytes instead\n",
      "  from cryptography.utils import int_from_bytes\n",
      "Collecting argparse\n",
      "  Using cached argparse-1.4.0.tar.gz (70 kB)\n",
      "  Preparing metadata (setup.py) ... \u001b[?25ldone\n",
      "\u001b[?25hSkipping wheel build for argparse, due to binaries being disabled for it.\n",
      "Installing collected packages: argparse\n",
      "    Running setup.py install for argparse ... \u001b[?25ldone\n",
      "\u001b[?25hSuccessfully installed argparse-1.4.0\n",
      "\u001b[33mWARNING: Running pip as the 'root' user can result in broken permissions and conflicting behaviour with the system package manager. It is recommended to use a virtual environment instead: https://pip.pypa.io/warnings/venv\u001b[0m\n",
      "/opt/conda/lib/python3.7/site-packages/secretstorage/dhcrypto.py:16: CryptographyDeprecationWarning: int_from_bytes is deprecated, use int.from_bytes instead\n",
      "  from cryptography.utils import int_from_bytes\n",
      "/opt/conda/lib/python3.7/site-packages/secretstorage/util.py:25: CryptographyDeprecationWarning: int_from_bytes is deprecated, use int.from_bytes instead\n",
      "  from cryptography.utils import int_from_bytes\n",
      "Requirement already satisfied: requests in /opt/conda/lib/python3.7/site-packages (2.26.0)\n",
      "Requirement already satisfied: idna<4,>=2.5 in /opt/conda/lib/python3.7/site-packages (from requests) (2.8)\n",
      "Requirement already satisfied: urllib3<1.27,>=1.21.1 in /opt/conda/lib/python3.7/site-packages (from requests) (1.26.7)\n",
      "Requirement already satisfied: certifi>=2017.4.17 in /opt/conda/lib/python3.7/site-packages (from requests) (2021.10.8)\n",
      "Requirement already satisfied: charset-normalizer~=2.0.0 in /opt/conda/lib/python3.7/site-packages (from requests) (2.0.4)\n",
      "\u001b[33mWARNING: Running pip as the 'root' user can result in broken permissions and conflicting behaviour with the system package manager. It is recommended to use a virtual environment instead: https://pip.pypa.io/warnings/venv\u001b[0m\n",
      "/opt/conda/lib/python3.7/site-packages/secretstorage/dhcrypto.py:16: CryptographyDeprecationWarning: int_from_bytes is deprecated, use int.from_bytes instead\n",
      "  from cryptography.utils import int_from_bytes\n",
      "/opt/conda/lib/python3.7/site-packages/secretstorage/util.py:25: CryptographyDeprecationWarning: int_from_bytes is deprecated, use int.from_bytes instead\n",
      "  from cryptography.utils import int_from_bytes\n",
      "Requirement already satisfied: certifi in /opt/conda/lib/python3.7/site-packages (2021.10.8)\n",
      "\u001b[33mWARNING: Running pip as the 'root' user can result in broken permissions and conflicting behaviour with the system package manager. It is recommended to use a virtual environment instead: https://pip.pypa.io/warnings/venv\u001b[0m\n",
      "/opt/conda/lib/python3.7/site-packages/secretstorage/dhcrypto.py:16: CryptographyDeprecationWarning: int_from_bytes is deprecated, use int.from_bytes instead\n",
      "  from cryptography.utils import int_from_bytes\n",
      "/opt/conda/lib/python3.7/site-packages/secretstorage/util.py:25: CryptographyDeprecationWarning: int_from_bytes is deprecated, use int.from_bytes instead\n",
      "  from cryptography.utils import int_from_bytes\n",
      "Requirement already satisfied: mwviews in /opt/conda/lib/python3.7/site-packages (0.1.0)\n",
      "Requirement already satisfied: mwapi in /opt/conda/lib/python3.7/site-packages (from mwviews) (0.5.1)\n",
      "Requirement already satisfied: mwcli in /opt/conda/lib/python3.7/site-packages (from mwviews) (0.0.3)\n",
      "Requirement already satisfied: requests in /opt/conda/lib/python3.7/site-packages (from mwviews) (2.26.0)\n",
      "Requirement already satisfied: mwxml in /opt/conda/lib/python3.7/site-packages (from mwcli->mwviews) (0.3.3)\n",
      "Requirement already satisfied: docopt in /opt/conda/lib/python3.7/site-packages (from mwcli->mwviews) (0.6.2)\n",
      "Requirement already satisfied: para in /opt/conda/lib/python3.7/site-packages (from mwcli->mwviews) (0.0.8)\n",
      "Requirement already satisfied: charset-normalizer~=2.0.0 in /opt/conda/lib/python3.7/site-packages (from requests->mwviews) (2.0.4)\n",
      "Requirement already satisfied: idna<4,>=2.5 in /opt/conda/lib/python3.7/site-packages (from requests->mwviews) (2.8)\n",
      "Requirement already satisfied: urllib3<1.27,>=1.21.1 in /opt/conda/lib/python3.7/site-packages (from requests->mwviews) (1.26.7)\n",
      "Requirement already satisfied: certifi>=2017.4.17 in /opt/conda/lib/python3.7/site-packages (from requests->mwviews) (2021.10.8)\n",
      "Requirement already satisfied: mwtypes>=0.3.0 in /opt/conda/lib/python3.7/site-packages (from mwxml->mwcli->mwviews) (0.3.2)\n",
      "Requirement already satisfied: jsonschema>=2.5.1 in /opt/conda/lib/python3.7/site-packages (from mwxml->mwcli->mwviews) (3.2.0)\n",
      "Requirement already satisfied: six>=1.11.0 in /opt/conda/lib/python3.7/site-packages (from jsonschema>=2.5.1->mwxml->mwcli->mwviews) (1.14.0)\n",
      "Requirement already satisfied: setuptools in /opt/conda/lib/python3.7/site-packages (from jsonschema>=2.5.1->mwxml->mwcli->mwviews) (58.5.3)\n",
      "Requirement already satisfied: attrs>=17.4.0 in /opt/conda/lib/python3.7/site-packages (from jsonschema>=2.5.1->mwxml->mwcli->mwviews) (19.3.0)\n",
      "Requirement already satisfied: importlib-metadata in /opt/conda/lib/python3.7/site-packages (from jsonschema>=2.5.1->mwxml->mwcli->mwviews) (1.5.0)\n",
      "Requirement already satisfied: pyrsistent>=0.14.0 in /opt/conda/lib/python3.7/site-packages (from jsonschema>=2.5.1->mwxml->mwcli->mwviews) (0.15.7)\n",
      "Requirement already satisfied: jsonable>=0.3.0 in /opt/conda/lib/python3.7/site-packages (from mwtypes>=0.3.0->mwxml->mwcli->mwviews) (0.3.1)\n",
      "Requirement already satisfied: zipp>=0.5 in /opt/conda/lib/python3.7/site-packages (from importlib-metadata->jsonschema>=2.5.1->mwxml->mwcli->mwviews) (2.2.0)\n",
      "\u001b[33mWARNING: Running pip as the 'root' user can result in broken permissions and conflicting behaviour with the system package manager. It is recommended to use a virtual environment instead: https://pip.pypa.io/warnings/venv\u001b[0m\n",
      "/opt/conda/lib/python3.7/site-packages/secretstorage/dhcrypto.py:16: CryptographyDeprecationWarning: int_from_bytes is deprecated, use int.from_bytes instead\n",
      "  from cryptography.utils import int_from_bytes\n",
      "/opt/conda/lib/python3.7/site-packages/secretstorage/util.py:25: CryptographyDeprecationWarning: int_from_bytes is deprecated, use int.from_bytes instead\n",
      "  from cryptography.utils import int_from_bytes\n",
      "Collecting git+https://github.com/Commonists/pageview-api.git\n",
      "  Cloning https://github.com/Commonists/pageview-api.git to /tmp/pip-req-build-87y2i__3\n",
      "  Running command git clone --filter=blob:none -q https://github.com/Commonists/pageview-api.git /tmp/pip-req-build-87y2i__3\n",
      "  Resolved https://github.com/Commonists/pageview-api.git to commit 39e8b3c3c82f64a500e3dd4f306451c81c7e31b7\n",
      "  Preparing metadata (setup.py) ... \u001b[?25ldone\n",
      "\u001b[?25hRequirement already satisfied: requests in /opt/conda/lib/python3.7/site-packages (from pageviewapi==0.4.0) (2.26.0)\n",
      "Requirement already satisfied: attrdict in /opt/conda/lib/python3.7/site-packages (from pageviewapi==0.4.0) (2.0.1)\n",
      "Requirement already satisfied: six in /opt/conda/lib/python3.7/site-packages (from attrdict->pageviewapi==0.4.0) (1.14.0)\n",
      "Requirement already satisfied: charset-normalizer~=2.0.0 in /opt/conda/lib/python3.7/site-packages (from requests->pageviewapi==0.4.0) (2.0.4)\n",
      "Requirement already satisfied: certifi>=2017.4.17 in /opt/conda/lib/python3.7/site-packages (from requests->pageviewapi==0.4.0) (2021.10.8)\n",
      "Requirement already satisfied: idna<4,>=2.5 in /opt/conda/lib/python3.7/site-packages (from requests->pageviewapi==0.4.0) (2.8)\n",
      "Requirement already satisfied: urllib3<1.27,>=1.21.1 in /opt/conda/lib/python3.7/site-packages (from requests->pageviewapi==0.4.0) (1.26.7)\n",
      "\u001b[33mWARNING: Running pip as the 'root' user can result in broken permissions and conflicting behaviour with the system package manager. It is recommended to use a virtual environment instead: https://pip.pypa.io/warnings/venv\u001b[0m\n"
     ]
    }
   ],
   "source": [
    "!pip install --no-binary :all: argparse\n",
    "!pip install --no-binary :all: requests\n",
    "!pip install --no-binary :all: certifi\n",
    "!pip install mwviews\n",
    "!pip install git+https://github.com/Commonists/pageview-api.git"
   ]
  },
  {
   "cell_type": "code",
   "execution_count": 3,
   "metadata": {},
   "outputs": [
    {
     "ename": "ModuleNotFoundError",
     "evalue": "No module named 'confluent_kafka'",
     "output_type": "error",
     "traceback": [
      "\u001b[0;31m---------------------------------------------------------------------------\u001b[0m",
      "\u001b[0;31mModuleNotFoundError\u001b[0m                       Traceback (most recent call last)",
      "\u001b[0;32m<ipython-input-3-73f1bce11380>\u001b[0m in \u001b[0;36m<module>\u001b[0;34m\u001b[0m\n\u001b[1;32m      1\u001b[0m \u001b[0;32mimport\u001b[0m \u001b[0margparse\u001b[0m\u001b[0;34m\u001b[0m\u001b[0;34m\u001b[0m\u001b[0m\n\u001b[1;32m      2\u001b[0m \u001b[0;34m\u001b[0m\u001b[0m\n\u001b[0;32m----> 3\u001b[0;31m \u001b[0;32mfrom\u001b[0m \u001b[0mconfluent_kafka\u001b[0m \u001b[0;32mimport\u001b[0m \u001b[0mavro\u001b[0m\u001b[0;34m,\u001b[0m \u001b[0mKafkaError\u001b[0m\u001b[0;34m\u001b[0m\u001b[0;34m\u001b[0m\u001b[0m\n\u001b[0m\u001b[1;32m      4\u001b[0m \u001b[0;32mfrom\u001b[0m \u001b[0mconfluent_kafka\u001b[0m\u001b[0;34m.\u001b[0m\u001b[0madmin\u001b[0m \u001b[0;32mimport\u001b[0m \u001b[0mAdminClient\u001b[0m\u001b[0;34m,\u001b[0m \u001b[0mNewTopic\u001b[0m\u001b[0;34m\u001b[0m\u001b[0;34m\u001b[0m\u001b[0m\n\u001b[1;32m      5\u001b[0m \u001b[0;32mfrom\u001b[0m \u001b[0muuid\u001b[0m \u001b[0;32mimport\u001b[0m \u001b[0muuid4\u001b[0m\u001b[0;34m\u001b[0m\u001b[0;34m\u001b[0m\u001b[0m\n",
      "\u001b[0;31mModuleNotFoundError\u001b[0m: No module named 'confluent_kafka'"
     ]
    }
   ],
   "source": [
    "import argparse\n",
    "\n",
    "from confluent_kafka import avro, KafkaError\n",
    "from confluent_kafka.admin import AdminClient, NewTopic\n",
    "from uuid import uuid4"
   ]
  },
  {
   "cell_type": "code",
   "execution_count": null,
   "metadata": {},
   "outputs": [],
   "source": [
    "class Wikipage(object):\n",
    "    \"\"\"\n",
    "        Wikipage stores the meta-data for a Wikipage used in the analysis Kafka key.\n",
    "    \"\"\"\n",
    "\n",
    "    # Use __slots__ to explicitly declare all data members.\n",
    "    __slots__ = [\"pagename\", \"id\"]\n",
    "\n",
    "    def __init__(self, pagename=None):\n",
    "        self.pagename = pagename\n",
    "        # Unique id used to track produce request success/failures.\n",
    "        # Do *not* include in the serialized object.\n",
    "        self.id = uuid4()\n",
    "\n",
    "    @staticmethod\n",
    "    def dict_to_name(obj, ctx):\n",
    "        return Wikipage(obj['pagename'])\n",
    "\n",
    "    @staticmethod\n",
    "    def name_to_dict(name, ctx):\n",
    "        return Wikipage.to_dict(name)\n",
    "\n",
    "    def to_dict(self):\n",
    "        \"\"\"\n",
    "            We must provide a dict representation of our class for serialization.\n",
    "        \"\"\"\n",
    "        return dict(pagename=self.pagename)"
   ]
  },
  {
   "cell_type": "code",
   "execution_count": null,
   "metadata": {},
   "outputs": [],
   "source": [
    "class Count(object):\n",
    "    \"\"\"\n",
    "        Count stores the pageview counts.\n",
    "    \"\"\"\n",
    "\n",
    "    # Use __slots__ to explicitly declare all data members.\n",
    "    __slots__ = [\"count\", \"id\"]\n",
    "\n",
    "    def __init__(self, count=None):\n",
    "        self.count = count\n",
    "        # Unique id used to track produce request success/failures.\n",
    "        # Do *not* include in the serialized object.\n",
    "        self.id = uuid4()\n",
    "\n",
    "    @staticmethod\n",
    "    def dict_to_count(obj, ctx):\n",
    "        return Count(obj['count'])\n",
    "\n",
    "    @staticmethod\n",
    "    def count_to_dict(count, ctx):\n",
    "        return Count.to_dict(count)\n",
    "\n",
    "    def to_dict(self):\n",
    "        \"\"\"\n",
    "            We must provide a dict representation of our class for serialization.\n",
    "        \"\"\"\n",
    "        return dict(count=self.count)"
   ]
  },
  {
   "cell_type": "code",
   "execution_count": null,
   "metadata": {},
   "outputs": [],
   "source": [
    "#\n",
    "# Helper function to read CCloud configuration.\n",
    "#\n",
    "def read_ccloud_config(config_file):\n",
    "    \"\"\"Read Confluent Cloud configuration for librdkafka clients\"\"\"\n",
    "\n",
    "    conf = {}\n",
    "    with open(config_file) as fh:\n",
    "        for line in fh:\n",
    "            line = line.strip()\n",
    "            if len(line) != 0 and line[0] != \"#\":\n",
    "                parameter, value = line.strip().split('=', 1)\n",
    "                conf[parameter] = value.strip()\n",
    "\n",
    "    return conf\n",
    "\n",
    "#\n",
    "# Helper function to create Kafka Topic.\n",
    "#\n",
    "def create_topic(conf, topic):\n",
    "    \"\"\"\n",
    "        Create a topic if needed\n",
    "        Examples of additional admin API functionality:\n",
    "        https://github.com/confluentinc/confluent-kafka-python/blob/master/examples/adminapi.py\n",
    "    \"\"\"\n",
    "\n",
    "    a = AdminClient({\n",
    "           'bootstrap.servers': conf['bootstrap.servers'],\n",
    "           'sasl.mechanisms': 'PLAIN',\n",
    "           'security.protocol': 'SASL_SSL',\n",
    "           'sasl.username': conf['sasl.username'],\n",
    "           'sasl.password': conf['sasl.password']\n",
    "    })\n",
    "    fs = a.create_topics([NewTopic(\n",
    "         topic,\n",
    "         num_partitions=1,\n",
    "         replication_factor=3\n",
    "    )])\n",
    "    for topic, f in fs.items():\n",
    "        try:\n",
    "            f.result()  # The result itself is None\n",
    "            print(\"Topic {} created\".format(topic))\n",
    "        except Exception as e:\n",
    "            # Continue if error code TOPIC_ALREADY_EXISTS, which may be true\n",
    "            # Otherwise fail fast\n",
    "            if e.args[0].code() != KafkaError.TOPIC_ALREADY_EXISTS:\n",
    "                print(\"Failed to create topic {}: {}\".format(topic, e))\n",
    "                sys.exit(1)"
   ]
  },
  {
   "cell_type": "code",
   "execution_count": null,
   "metadata": {},
   "outputs": [],
   "source": [
    "\n",
    "# =============================================================================\n",
    "#\n",
    "# Produce messages to Confluent Cloud\n",
    "#\n",
    "# Using Confluent Python Client for Apache Kafka\n",
    "# Writes JSON data, no integration with Confluent Cloud Schema Registry\n",
    "#\n",
    "# =============================================================================\n",
    "from confluent_kafka import Producer\n",
    "from confluent_kafka.serialization import StringSerializer\n",
    "\n",
    "import json\n",
    "import ccloud_lib"
   ]
  },
  {
   "cell_type": "code",
   "execution_count": null,
   "metadata": {},
   "outputs": [],
   "source": [
    "\n",
    "\n",
    "\n",
    "# Define arguments and configurations and initialize\n",
    "\n",
    "config_file = \"/Users/mkaempf/.confluent/python.config\"\n",
    "topic = \"test1\"\n",
    "\n",
    "conf = read_ccloud_config(config_file)\n",
    "create_topic( conf, topic )\n",
    "\n",
    "print( conf )\n",
    "\n",
    "#\n",
    "# The producer doesn't like some properties:\n",
    "#\n",
    "# for full list of configurations, see:\n",
    "#  https://docs.confluent.io/platform/current/clients/confluent-kafka-python/#serializingproducer\n",
    "conf.pop( 'schema.registry.url' )\n",
    "conf.pop( 'basic.auth.credentials.source' )\n",
    "conf.pop( 'basic.auth.user.info' )\n"
   ]
  },
  {
   "cell_type": "code",
   "execution_count": null,
   "metadata": {},
   "outputs": [],
   "source": [
    "producer = Producer(conf)\n",
    "\n",
    "delivered_records = 0"
   ]
  },
  {
   "cell_type": "code",
   "execution_count": null,
   "metadata": {},
   "outputs": [],
   "source": [
    "# Optional per-message on_delivery handler (triggered by poll() or flush())\n",
    "# when a message has been successfully delivered or\n",
    "# permanently failed delivery (after retries).\n",
    "def acked(err, msg):\n",
    "    global delivered_records\n",
    "    \"\"\"Delivery report handler called on\n",
    "    successful or failed delivery of message\n",
    "    \"\"\"\n",
    "    if err is not None:\n",
    "        print(\"Failed to deliver message: {}\".format(err))\n",
    "    else:\n",
    "        delivered_records += 1\n",
    "        print(\"Produced record to topic {} partition [{}] @ offset {}\"\n",
    "              .format(msg.topic(), msg.partition(), msg.offset()))\n",
    "        "
   ]
  },
  {
   "cell_type": "code",
   "execution_count": null,
   "metadata": {},
   "outputs": [],
   "source": [
    "pages = [\"Paris\", \"London\", \"Berlin\", \"New-York\" ]\n",
    "\n",
    "import pageviewapi\n",
    "\n",
    "from datetime import datetime\n",
    "\n",
    "# datetime object containing current date and time\n",
    "tStart = datetime.now()\n",
    " \n",
    "print(\"now =\", tStart)\n",
    "\n",
    "# dd/mm/YY H:M:S\n",
    "dt_string = tStart.strftime(\"%d/%m/%Y %H:%M:%S\")\n",
    "print(\"date and time =\", dt_string)\n",
    "\n",
    "n = 1\n",
    "for p in pages:\n",
    "    n = n+1\n",
    "    name_object = Name()\n",
    "    name_object.name = p\n",
    "    count_object = Count()\n",
    "    count_object.count = n\n",
    "    \n",
    "    print(\"Producing JSON record: {}\\t{}\".format(name_object.name, count_object.count))\n",
    "    \n",
    "    data = pageviewapi.per_article('en.wikipedia', p, '20200101', '20201231',\n",
    "                        access='all-access', agent='all-agents', granularity='daily')\n",
    "    \n",
    "    producer.produce(topic=\"topic1\", key=json.dumps(name_object.to_dict()), value=json.dumps(data), on_delivery=acked)\n",
    "\n",
    "    producer.poll(0)\n",
    "\n",
    "producer.flush()\n",
    "\n",
    "print(\"{} messages were produced to topic {}!\".format(delivered_records, topic))\n",
    "\n",
    "tEnd = datetime.now()\n",
    " \n",
    "print(\"now =\", tEnd)\n",
    "\n",
    "print(\"loadtime => \", tEnd - tStart)"
   ]
  },
  {
   "cell_type": "code",
   "execution_count": null,
   "metadata": {},
   "outputs": [],
   "source": [
    "\n",
    "pageviewapi.per_article('en.wikipedia', 'Paris', '20151106', '20151120',\n",
    "                        access='all-access', agent='all-agents', granularity='daily')"
   ]
  },
  {
   "cell_type": "code",
   "execution_count": null,
   "metadata": {},
   "outputs": [],
   "source": [
    "pageviewapi.legacy_pagecounts('fr.wikipedia', '2010010100', '2011010100', granularity='daily')"
   ]
  }
 ],
 "metadata": {
  "instance_type": "ml.t3.medium",
  "kernelspec": {
   "display_name": "Python 3 (Data Science)",
   "language": "python",
   "name": "python3__SAGEMAKER_INTERNAL__arn:aws:sagemaker:eu-central-1:936697816551:image/datascience-1.0"
  },
  "language_info": {
   "codemirror_mode": {
    "name": "ipython",
    "version": 3
   },
   "file_extension": ".py",
   "mimetype": "text/x-python",
   "name": "python",
   "nbconvert_exporter": "python",
   "pygments_lexer": "ipython3",
   "version": "3.7.10"
  }
 },
 "nbformat": 4,
 "nbformat_minor": 4
}
